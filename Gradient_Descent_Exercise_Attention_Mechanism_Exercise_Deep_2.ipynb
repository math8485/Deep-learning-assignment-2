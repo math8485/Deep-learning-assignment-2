{
  "nbformat": 4,
  "nbformat_minor": 0,
  "metadata": {
    "colab": {
      "provenance": [],
      "include_colab_link": true
    },
    "kernelspec": {
      "name": "python3",
      "display_name": "Python 3"
    },
    "language_info": {
      "name": "python"
    },
    "widgets": {
      "application/vnd.jupyter.widget-state+json": {
        "23a4678a2a23468dbcdcfca2c9701a69": {
          "model_module": "@jupyter-widgets/controls",
          "model_name": "HBoxModel",
          "model_module_version": "1.5.0",
          "state": {
            "_dom_classes": [],
            "_model_module": "@jupyter-widgets/controls",
            "_model_module_version": "1.5.0",
            "_model_name": "HBoxModel",
            "_view_count": null,
            "_view_module": "@jupyter-widgets/controls",
            "_view_module_version": "1.5.0",
            "_view_name": "HBoxView",
            "box_style": "",
            "children": [
              "IPY_MODEL_15f82c6faed74a23b6b2d9373e2b8f7e",
              "IPY_MODEL_b528f6c805bd4aed8e5b1f325ac59ad8",
              "IPY_MODEL_e135a9f3a7ea4ffbbf750c3d40859e53"
            ],
            "layout": "IPY_MODEL_3d25c467c0ce4d0ba5e39276c96fbd0f"
          }
        },
        "15f82c6faed74a23b6b2d9373e2b8f7e": {
          "model_module": "@jupyter-widgets/controls",
          "model_name": "HTMLModel",
          "model_module_version": "1.5.0",
          "state": {
            "_dom_classes": [],
            "_model_module": "@jupyter-widgets/controls",
            "_model_module_version": "1.5.0",
            "_model_name": "HTMLModel",
            "_view_count": null,
            "_view_module": "@jupyter-widgets/controls",
            "_view_module_version": "1.5.0",
            "_view_name": "HTMLView",
            "description": "",
            "description_tooltip": null,
            "layout": "IPY_MODEL_9421e52bbe7c4e94a298f1b9790dd748",
            "placeholder": "​",
            "style": "IPY_MODEL_3e603e166b70438ea5e7722c29522c91",
            "value": "Downloading (…)okenizer_config.json: 100%"
          }
        },
        "b528f6c805bd4aed8e5b1f325ac59ad8": {
          "model_module": "@jupyter-widgets/controls",
          "model_name": "FloatProgressModel",
          "model_module_version": "1.5.0",
          "state": {
            "_dom_classes": [],
            "_model_module": "@jupyter-widgets/controls",
            "_model_module_version": "1.5.0",
            "_model_name": "FloatProgressModel",
            "_view_count": null,
            "_view_module": "@jupyter-widgets/controls",
            "_view_module_version": "1.5.0",
            "_view_name": "ProgressView",
            "bar_style": "success",
            "description": "",
            "description_tooltip": null,
            "layout": "IPY_MODEL_791a7ce481c345a59e05f62f8af6d6d6",
            "max": 28,
            "min": 0,
            "orientation": "horizontal",
            "style": "IPY_MODEL_7cc2757ecc034b55a3b5556eca1b4a25",
            "value": 28
          }
        },
        "e135a9f3a7ea4ffbbf750c3d40859e53": {
          "model_module": "@jupyter-widgets/controls",
          "model_name": "HTMLModel",
          "model_module_version": "1.5.0",
          "state": {
            "_dom_classes": [],
            "_model_module": "@jupyter-widgets/controls",
            "_model_module_version": "1.5.0",
            "_model_name": "HTMLModel",
            "_view_count": null,
            "_view_module": "@jupyter-widgets/controls",
            "_view_module_version": "1.5.0",
            "_view_name": "HTMLView",
            "description": "",
            "description_tooltip": null,
            "layout": "IPY_MODEL_10bf2d014f744b1eada45a235659775b",
            "placeholder": "​",
            "style": "IPY_MODEL_c8cce6a645af47c49968f4e7a7c5134d",
            "value": " 28.0/28.0 [00:00&lt;00:00, 1.72kB/s]"
          }
        },
        "3d25c467c0ce4d0ba5e39276c96fbd0f": {
          "model_module": "@jupyter-widgets/base",
          "model_name": "LayoutModel",
          "model_module_version": "1.2.0",
          "state": {
            "_model_module": "@jupyter-widgets/base",
            "_model_module_version": "1.2.0",
            "_model_name": "LayoutModel",
            "_view_count": null,
            "_view_module": "@jupyter-widgets/base",
            "_view_module_version": "1.2.0",
            "_view_name": "LayoutView",
            "align_content": null,
            "align_items": null,
            "align_self": null,
            "border": null,
            "bottom": null,
            "display": null,
            "flex": null,
            "flex_flow": null,
            "grid_area": null,
            "grid_auto_columns": null,
            "grid_auto_flow": null,
            "grid_auto_rows": null,
            "grid_column": null,
            "grid_gap": null,
            "grid_row": null,
            "grid_template_areas": null,
            "grid_template_columns": null,
            "grid_template_rows": null,
            "height": null,
            "justify_content": null,
            "justify_items": null,
            "left": null,
            "margin": null,
            "max_height": null,
            "max_width": null,
            "min_height": null,
            "min_width": null,
            "object_fit": null,
            "object_position": null,
            "order": null,
            "overflow": null,
            "overflow_x": null,
            "overflow_y": null,
            "padding": null,
            "right": null,
            "top": null,
            "visibility": null,
            "width": null
          }
        },
        "9421e52bbe7c4e94a298f1b9790dd748": {
          "model_module": "@jupyter-widgets/base",
          "model_name": "LayoutModel",
          "model_module_version": "1.2.0",
          "state": {
            "_model_module": "@jupyter-widgets/base",
            "_model_module_version": "1.2.0",
            "_model_name": "LayoutModel",
            "_view_count": null,
            "_view_module": "@jupyter-widgets/base",
            "_view_module_version": "1.2.0",
            "_view_name": "LayoutView",
            "align_content": null,
            "align_items": null,
            "align_self": null,
            "border": null,
            "bottom": null,
            "display": null,
            "flex": null,
            "flex_flow": null,
            "grid_area": null,
            "grid_auto_columns": null,
            "grid_auto_flow": null,
            "grid_auto_rows": null,
            "grid_column": null,
            "grid_gap": null,
            "grid_row": null,
            "grid_template_areas": null,
            "grid_template_columns": null,
            "grid_template_rows": null,
            "height": null,
            "justify_content": null,
            "justify_items": null,
            "left": null,
            "margin": null,
            "max_height": null,
            "max_width": null,
            "min_height": null,
            "min_width": null,
            "object_fit": null,
            "object_position": null,
            "order": null,
            "overflow": null,
            "overflow_x": null,
            "overflow_y": null,
            "padding": null,
            "right": null,
            "top": null,
            "visibility": null,
            "width": null
          }
        },
        "3e603e166b70438ea5e7722c29522c91": {
          "model_module": "@jupyter-widgets/controls",
          "model_name": "DescriptionStyleModel",
          "model_module_version": "1.5.0",
          "state": {
            "_model_module": "@jupyter-widgets/controls",
            "_model_module_version": "1.5.0",
            "_model_name": "DescriptionStyleModel",
            "_view_count": null,
            "_view_module": "@jupyter-widgets/base",
            "_view_module_version": "1.2.0",
            "_view_name": "StyleView",
            "description_width": ""
          }
        },
        "791a7ce481c345a59e05f62f8af6d6d6": {
          "model_module": "@jupyter-widgets/base",
          "model_name": "LayoutModel",
          "model_module_version": "1.2.0",
          "state": {
            "_model_module": "@jupyter-widgets/base",
            "_model_module_version": "1.2.0",
            "_model_name": "LayoutModel",
            "_view_count": null,
            "_view_module": "@jupyter-widgets/base",
            "_view_module_version": "1.2.0",
            "_view_name": "LayoutView",
            "align_content": null,
            "align_items": null,
            "align_self": null,
            "border": null,
            "bottom": null,
            "display": null,
            "flex": null,
            "flex_flow": null,
            "grid_area": null,
            "grid_auto_columns": null,
            "grid_auto_flow": null,
            "grid_auto_rows": null,
            "grid_column": null,
            "grid_gap": null,
            "grid_row": null,
            "grid_template_areas": null,
            "grid_template_columns": null,
            "grid_template_rows": null,
            "height": null,
            "justify_content": null,
            "justify_items": null,
            "left": null,
            "margin": null,
            "max_height": null,
            "max_width": null,
            "min_height": null,
            "min_width": null,
            "object_fit": null,
            "object_position": null,
            "order": null,
            "overflow": null,
            "overflow_x": null,
            "overflow_y": null,
            "padding": null,
            "right": null,
            "top": null,
            "visibility": null,
            "width": null
          }
        },
        "7cc2757ecc034b55a3b5556eca1b4a25": {
          "model_module": "@jupyter-widgets/controls",
          "model_name": "ProgressStyleModel",
          "model_module_version": "1.5.0",
          "state": {
            "_model_module": "@jupyter-widgets/controls",
            "_model_module_version": "1.5.0",
            "_model_name": "ProgressStyleModel",
            "_view_count": null,
            "_view_module": "@jupyter-widgets/base",
            "_view_module_version": "1.2.0",
            "_view_name": "StyleView",
            "bar_color": null,
            "description_width": ""
          }
        },
        "10bf2d014f744b1eada45a235659775b": {
          "model_module": "@jupyter-widgets/base",
          "model_name": "LayoutModel",
          "model_module_version": "1.2.0",
          "state": {
            "_model_module": "@jupyter-widgets/base",
            "_model_module_version": "1.2.0",
            "_model_name": "LayoutModel",
            "_view_count": null,
            "_view_module": "@jupyter-widgets/base",
            "_view_module_version": "1.2.0",
            "_view_name": "LayoutView",
            "align_content": null,
            "align_items": null,
            "align_self": null,
            "border": null,
            "bottom": null,
            "display": null,
            "flex": null,
            "flex_flow": null,
            "grid_area": null,
            "grid_auto_columns": null,
            "grid_auto_flow": null,
            "grid_auto_rows": null,
            "grid_column": null,
            "grid_gap": null,
            "grid_row": null,
            "grid_template_areas": null,
            "grid_template_columns": null,
            "grid_template_rows": null,
            "height": null,
            "justify_content": null,
            "justify_items": null,
            "left": null,
            "margin": null,
            "max_height": null,
            "max_width": null,
            "min_height": null,
            "min_width": null,
            "object_fit": null,
            "object_position": null,
            "order": null,
            "overflow": null,
            "overflow_x": null,
            "overflow_y": null,
            "padding": null,
            "right": null,
            "top": null,
            "visibility": null,
            "width": null
          }
        },
        "c8cce6a645af47c49968f4e7a7c5134d": {
          "model_module": "@jupyter-widgets/controls",
          "model_name": "DescriptionStyleModel",
          "model_module_version": "1.5.0",
          "state": {
            "_model_module": "@jupyter-widgets/controls",
            "_model_module_version": "1.5.0",
            "_model_name": "DescriptionStyleModel",
            "_view_count": null,
            "_view_module": "@jupyter-widgets/base",
            "_view_module_version": "1.2.0",
            "_view_name": "StyleView",
            "description_width": ""
          }
        },
        "c9ca7bac50b4418b996817cf94007116": {
          "model_module": "@jupyter-widgets/controls",
          "model_name": "HBoxModel",
          "model_module_version": "1.5.0",
          "state": {
            "_dom_classes": [],
            "_model_module": "@jupyter-widgets/controls",
            "_model_module_version": "1.5.0",
            "_model_name": "HBoxModel",
            "_view_count": null,
            "_view_module": "@jupyter-widgets/controls",
            "_view_module_version": "1.5.0",
            "_view_name": "HBoxView",
            "box_style": "",
            "children": [
              "IPY_MODEL_c74096b6ee314147bae4e69bcedb1d7b",
              "IPY_MODEL_15d217558b4e48ec8b5d27b6334be838",
              "IPY_MODEL_56dbdd552fe7405ebf8d3b1e260fca5a"
            ],
            "layout": "IPY_MODEL_0c4d2a365dad4576a7fa9a471b287a74"
          }
        },
        "c74096b6ee314147bae4e69bcedb1d7b": {
          "model_module": "@jupyter-widgets/controls",
          "model_name": "HTMLModel",
          "model_module_version": "1.5.0",
          "state": {
            "_dom_classes": [],
            "_model_module": "@jupyter-widgets/controls",
            "_model_module_version": "1.5.0",
            "_model_name": "HTMLModel",
            "_view_count": null,
            "_view_module": "@jupyter-widgets/controls",
            "_view_module_version": "1.5.0",
            "_view_name": "HTMLView",
            "description": "",
            "description_tooltip": null,
            "layout": "IPY_MODEL_27658c95532e43568c84124636803187",
            "placeholder": "​",
            "style": "IPY_MODEL_0d588d1cc24249d8a09d2e4f8e9cd457",
            "value": "Downloading (…)solve/main/vocab.txt: 100%"
          }
        },
        "15d217558b4e48ec8b5d27b6334be838": {
          "model_module": "@jupyter-widgets/controls",
          "model_name": "FloatProgressModel",
          "model_module_version": "1.5.0",
          "state": {
            "_dom_classes": [],
            "_model_module": "@jupyter-widgets/controls",
            "_model_module_version": "1.5.0",
            "_model_name": "FloatProgressModel",
            "_view_count": null,
            "_view_module": "@jupyter-widgets/controls",
            "_view_module_version": "1.5.0",
            "_view_name": "ProgressView",
            "bar_style": "success",
            "description": "",
            "description_tooltip": null,
            "layout": "IPY_MODEL_17b4ca98f7814b30b7d4592184edb866",
            "max": 231508,
            "min": 0,
            "orientation": "horizontal",
            "style": "IPY_MODEL_482bf4b885304706b97a0f2d9eb24bc9",
            "value": 231508
          }
        },
        "56dbdd552fe7405ebf8d3b1e260fca5a": {
          "model_module": "@jupyter-widgets/controls",
          "model_name": "HTMLModel",
          "model_module_version": "1.5.0",
          "state": {
            "_dom_classes": [],
            "_model_module": "@jupyter-widgets/controls",
            "_model_module_version": "1.5.0",
            "_model_name": "HTMLModel",
            "_view_count": null,
            "_view_module": "@jupyter-widgets/controls",
            "_view_module_version": "1.5.0",
            "_view_name": "HTMLView",
            "description": "",
            "description_tooltip": null,
            "layout": "IPY_MODEL_8e86444bcb2f41b7be3f2c849c2572bb",
            "placeholder": "​",
            "style": "IPY_MODEL_69d677a4ef8f452eae5684d6c1045497",
            "value": " 232k/232k [00:00&lt;00:00, 3.30MB/s]"
          }
        },
        "0c4d2a365dad4576a7fa9a471b287a74": {
          "model_module": "@jupyter-widgets/base",
          "model_name": "LayoutModel",
          "model_module_version": "1.2.0",
          "state": {
            "_model_module": "@jupyter-widgets/base",
            "_model_module_version": "1.2.0",
            "_model_name": "LayoutModel",
            "_view_count": null,
            "_view_module": "@jupyter-widgets/base",
            "_view_module_version": "1.2.0",
            "_view_name": "LayoutView",
            "align_content": null,
            "align_items": null,
            "align_self": null,
            "border": null,
            "bottom": null,
            "display": null,
            "flex": null,
            "flex_flow": null,
            "grid_area": null,
            "grid_auto_columns": null,
            "grid_auto_flow": null,
            "grid_auto_rows": null,
            "grid_column": null,
            "grid_gap": null,
            "grid_row": null,
            "grid_template_areas": null,
            "grid_template_columns": null,
            "grid_template_rows": null,
            "height": null,
            "justify_content": null,
            "justify_items": null,
            "left": null,
            "margin": null,
            "max_height": null,
            "max_width": null,
            "min_height": null,
            "min_width": null,
            "object_fit": null,
            "object_position": null,
            "order": null,
            "overflow": null,
            "overflow_x": null,
            "overflow_y": null,
            "padding": null,
            "right": null,
            "top": null,
            "visibility": null,
            "width": null
          }
        },
        "27658c95532e43568c84124636803187": {
          "model_module": "@jupyter-widgets/base",
          "model_name": "LayoutModel",
          "model_module_version": "1.2.0",
          "state": {
            "_model_module": "@jupyter-widgets/base",
            "_model_module_version": "1.2.0",
            "_model_name": "LayoutModel",
            "_view_count": null,
            "_view_module": "@jupyter-widgets/base",
            "_view_module_version": "1.2.0",
            "_view_name": "LayoutView",
            "align_content": null,
            "align_items": null,
            "align_self": null,
            "border": null,
            "bottom": null,
            "display": null,
            "flex": null,
            "flex_flow": null,
            "grid_area": null,
            "grid_auto_columns": null,
            "grid_auto_flow": null,
            "grid_auto_rows": null,
            "grid_column": null,
            "grid_gap": null,
            "grid_row": null,
            "grid_template_areas": null,
            "grid_template_columns": null,
            "grid_template_rows": null,
            "height": null,
            "justify_content": null,
            "justify_items": null,
            "left": null,
            "margin": null,
            "max_height": null,
            "max_width": null,
            "min_height": null,
            "min_width": null,
            "object_fit": null,
            "object_position": null,
            "order": null,
            "overflow": null,
            "overflow_x": null,
            "overflow_y": null,
            "padding": null,
            "right": null,
            "top": null,
            "visibility": null,
            "width": null
          }
        },
        "0d588d1cc24249d8a09d2e4f8e9cd457": {
          "model_module": "@jupyter-widgets/controls",
          "model_name": "DescriptionStyleModel",
          "model_module_version": "1.5.0",
          "state": {
            "_model_module": "@jupyter-widgets/controls",
            "_model_module_version": "1.5.0",
            "_model_name": "DescriptionStyleModel",
            "_view_count": null,
            "_view_module": "@jupyter-widgets/base",
            "_view_module_version": "1.2.0",
            "_view_name": "StyleView",
            "description_width": ""
          }
        },
        "17b4ca98f7814b30b7d4592184edb866": {
          "model_module": "@jupyter-widgets/base",
          "model_name": "LayoutModel",
          "model_module_version": "1.2.0",
          "state": {
            "_model_module": "@jupyter-widgets/base",
            "_model_module_version": "1.2.0",
            "_model_name": "LayoutModel",
            "_view_count": null,
            "_view_module": "@jupyter-widgets/base",
            "_view_module_version": "1.2.0",
            "_view_name": "LayoutView",
            "align_content": null,
            "align_items": null,
            "align_self": null,
            "border": null,
            "bottom": null,
            "display": null,
            "flex": null,
            "flex_flow": null,
            "grid_area": null,
            "grid_auto_columns": null,
            "grid_auto_flow": null,
            "grid_auto_rows": null,
            "grid_column": null,
            "grid_gap": null,
            "grid_row": null,
            "grid_template_areas": null,
            "grid_template_columns": null,
            "grid_template_rows": null,
            "height": null,
            "justify_content": null,
            "justify_items": null,
            "left": null,
            "margin": null,
            "max_height": null,
            "max_width": null,
            "min_height": null,
            "min_width": null,
            "object_fit": null,
            "object_position": null,
            "order": null,
            "overflow": null,
            "overflow_x": null,
            "overflow_y": null,
            "padding": null,
            "right": null,
            "top": null,
            "visibility": null,
            "width": null
          }
        },
        "482bf4b885304706b97a0f2d9eb24bc9": {
          "model_module": "@jupyter-widgets/controls",
          "model_name": "ProgressStyleModel",
          "model_module_version": "1.5.0",
          "state": {
            "_model_module": "@jupyter-widgets/controls",
            "_model_module_version": "1.5.0",
            "_model_name": "ProgressStyleModel",
            "_view_count": null,
            "_view_module": "@jupyter-widgets/base",
            "_view_module_version": "1.2.0",
            "_view_name": "StyleView",
            "bar_color": null,
            "description_width": ""
          }
        },
        "8e86444bcb2f41b7be3f2c849c2572bb": {
          "model_module": "@jupyter-widgets/base",
          "model_name": "LayoutModel",
          "model_module_version": "1.2.0",
          "state": {
            "_model_module": "@jupyter-widgets/base",
            "_model_module_version": "1.2.0",
            "_model_name": "LayoutModel",
            "_view_count": null,
            "_view_module": "@jupyter-widgets/base",
            "_view_module_version": "1.2.0",
            "_view_name": "LayoutView",
            "align_content": null,
            "align_items": null,
            "align_self": null,
            "border": null,
            "bottom": null,
            "display": null,
            "flex": null,
            "flex_flow": null,
            "grid_area": null,
            "grid_auto_columns": null,
            "grid_auto_flow": null,
            "grid_auto_rows": null,
            "grid_column": null,
            "grid_gap": null,
            "grid_row": null,
            "grid_template_areas": null,
            "grid_template_columns": null,
            "grid_template_rows": null,
            "height": null,
            "justify_content": null,
            "justify_items": null,
            "left": null,
            "margin": null,
            "max_height": null,
            "max_width": null,
            "min_height": null,
            "min_width": null,
            "object_fit": null,
            "object_position": null,
            "order": null,
            "overflow": null,
            "overflow_x": null,
            "overflow_y": null,
            "padding": null,
            "right": null,
            "top": null,
            "visibility": null,
            "width": null
          }
        },
        "69d677a4ef8f452eae5684d6c1045497": {
          "model_module": "@jupyter-widgets/controls",
          "model_name": "DescriptionStyleModel",
          "model_module_version": "1.5.0",
          "state": {
            "_model_module": "@jupyter-widgets/controls",
            "_model_module_version": "1.5.0",
            "_model_name": "DescriptionStyleModel",
            "_view_count": null,
            "_view_module": "@jupyter-widgets/base",
            "_view_module_version": "1.2.0",
            "_view_name": "StyleView",
            "description_width": ""
          }
        },
        "46441dc9a6434938be53ea6f9307c871": {
          "model_module": "@jupyter-widgets/controls",
          "model_name": "HBoxModel",
          "model_module_version": "1.5.0",
          "state": {
            "_dom_classes": [],
            "_model_module": "@jupyter-widgets/controls",
            "_model_module_version": "1.5.0",
            "_model_name": "HBoxModel",
            "_view_count": null,
            "_view_module": "@jupyter-widgets/controls",
            "_view_module_version": "1.5.0",
            "_view_name": "HBoxView",
            "box_style": "",
            "children": [
              "IPY_MODEL_a011eaee3a6f445095ee78a19b6a371c",
              "IPY_MODEL_b4308067ae324623957518bdeb9100ea",
              "IPY_MODEL_fcef4f706501488282da8b6c1843d359"
            ],
            "layout": "IPY_MODEL_90a6315cba6d47a4b4c18664d865192a"
          }
        },
        "a011eaee3a6f445095ee78a19b6a371c": {
          "model_module": "@jupyter-widgets/controls",
          "model_name": "HTMLModel",
          "model_module_version": "1.5.0",
          "state": {
            "_dom_classes": [],
            "_model_module": "@jupyter-widgets/controls",
            "_model_module_version": "1.5.0",
            "_model_name": "HTMLModel",
            "_view_count": null,
            "_view_module": "@jupyter-widgets/controls",
            "_view_module_version": "1.5.0",
            "_view_name": "HTMLView",
            "description": "",
            "description_tooltip": null,
            "layout": "IPY_MODEL_fbe1ce330d5147599dadfebb016174f4",
            "placeholder": "​",
            "style": "IPY_MODEL_34e91715e25942b9818c699379b968aa",
            "value": "Downloading (…)/main/tokenizer.json: 100%"
          }
        },
        "b4308067ae324623957518bdeb9100ea": {
          "model_module": "@jupyter-widgets/controls",
          "model_name": "FloatProgressModel",
          "model_module_version": "1.5.0",
          "state": {
            "_dom_classes": [],
            "_model_module": "@jupyter-widgets/controls",
            "_model_module_version": "1.5.0",
            "_model_name": "FloatProgressModel",
            "_view_count": null,
            "_view_module": "@jupyter-widgets/controls",
            "_view_module_version": "1.5.0",
            "_view_name": "ProgressView",
            "bar_style": "success",
            "description": "",
            "description_tooltip": null,
            "layout": "IPY_MODEL_69afb8abe33e4be8902a2a4c4b52f3c8",
            "max": 466062,
            "min": 0,
            "orientation": "horizontal",
            "style": "IPY_MODEL_79ebd262a31544d7bc9afe44ac45e8f2",
            "value": 466062
          }
        },
        "fcef4f706501488282da8b6c1843d359": {
          "model_module": "@jupyter-widgets/controls",
          "model_name": "HTMLModel",
          "model_module_version": "1.5.0",
          "state": {
            "_dom_classes": [],
            "_model_module": "@jupyter-widgets/controls",
            "_model_module_version": "1.5.0",
            "_model_name": "HTMLModel",
            "_view_count": null,
            "_view_module": "@jupyter-widgets/controls",
            "_view_module_version": "1.5.0",
            "_view_name": "HTMLView",
            "description": "",
            "description_tooltip": null,
            "layout": "IPY_MODEL_156c779749ee4ee390ed79281b430982",
            "placeholder": "​",
            "style": "IPY_MODEL_f6b296eb246f402aae32ad85550e1209",
            "value": " 466k/466k [00:00&lt;00:00, 13.5MB/s]"
          }
        },
        "90a6315cba6d47a4b4c18664d865192a": {
          "model_module": "@jupyter-widgets/base",
          "model_name": "LayoutModel",
          "model_module_version": "1.2.0",
          "state": {
            "_model_module": "@jupyter-widgets/base",
            "_model_module_version": "1.2.0",
            "_model_name": "LayoutModel",
            "_view_count": null,
            "_view_module": "@jupyter-widgets/base",
            "_view_module_version": "1.2.0",
            "_view_name": "LayoutView",
            "align_content": null,
            "align_items": null,
            "align_self": null,
            "border": null,
            "bottom": null,
            "display": null,
            "flex": null,
            "flex_flow": null,
            "grid_area": null,
            "grid_auto_columns": null,
            "grid_auto_flow": null,
            "grid_auto_rows": null,
            "grid_column": null,
            "grid_gap": null,
            "grid_row": null,
            "grid_template_areas": null,
            "grid_template_columns": null,
            "grid_template_rows": null,
            "height": null,
            "justify_content": null,
            "justify_items": null,
            "left": null,
            "margin": null,
            "max_height": null,
            "max_width": null,
            "min_height": null,
            "min_width": null,
            "object_fit": null,
            "object_position": null,
            "order": null,
            "overflow": null,
            "overflow_x": null,
            "overflow_y": null,
            "padding": null,
            "right": null,
            "top": null,
            "visibility": null,
            "width": null
          }
        },
        "fbe1ce330d5147599dadfebb016174f4": {
          "model_module": "@jupyter-widgets/base",
          "model_name": "LayoutModel",
          "model_module_version": "1.2.0",
          "state": {
            "_model_module": "@jupyter-widgets/base",
            "_model_module_version": "1.2.0",
            "_model_name": "LayoutModel",
            "_view_count": null,
            "_view_module": "@jupyter-widgets/base",
            "_view_module_version": "1.2.0",
            "_view_name": "LayoutView",
            "align_content": null,
            "align_items": null,
            "align_self": null,
            "border": null,
            "bottom": null,
            "display": null,
            "flex": null,
            "flex_flow": null,
            "grid_area": null,
            "grid_auto_columns": null,
            "grid_auto_flow": null,
            "grid_auto_rows": null,
            "grid_column": null,
            "grid_gap": null,
            "grid_row": null,
            "grid_template_areas": null,
            "grid_template_columns": null,
            "grid_template_rows": null,
            "height": null,
            "justify_content": null,
            "justify_items": null,
            "left": null,
            "margin": null,
            "max_height": null,
            "max_width": null,
            "min_height": null,
            "min_width": null,
            "object_fit": null,
            "object_position": null,
            "order": null,
            "overflow": null,
            "overflow_x": null,
            "overflow_y": null,
            "padding": null,
            "right": null,
            "top": null,
            "visibility": null,
            "width": null
          }
        },
        "34e91715e25942b9818c699379b968aa": {
          "model_module": "@jupyter-widgets/controls",
          "model_name": "DescriptionStyleModel",
          "model_module_version": "1.5.0",
          "state": {
            "_model_module": "@jupyter-widgets/controls",
            "_model_module_version": "1.5.0",
            "_model_name": "DescriptionStyleModel",
            "_view_count": null,
            "_view_module": "@jupyter-widgets/base",
            "_view_module_version": "1.2.0",
            "_view_name": "StyleView",
            "description_width": ""
          }
        },
        "69afb8abe33e4be8902a2a4c4b52f3c8": {
          "model_module": "@jupyter-widgets/base",
          "model_name": "LayoutModel",
          "model_module_version": "1.2.0",
          "state": {
            "_model_module": "@jupyter-widgets/base",
            "_model_module_version": "1.2.0",
            "_model_name": "LayoutModel",
            "_view_count": null,
            "_view_module": "@jupyter-widgets/base",
            "_view_module_version": "1.2.0",
            "_view_name": "LayoutView",
            "align_content": null,
            "align_items": null,
            "align_self": null,
            "border": null,
            "bottom": null,
            "display": null,
            "flex": null,
            "flex_flow": null,
            "grid_area": null,
            "grid_auto_columns": null,
            "grid_auto_flow": null,
            "grid_auto_rows": null,
            "grid_column": null,
            "grid_gap": null,
            "grid_row": null,
            "grid_template_areas": null,
            "grid_template_columns": null,
            "grid_template_rows": null,
            "height": null,
            "justify_content": null,
            "justify_items": null,
            "left": null,
            "margin": null,
            "max_height": null,
            "max_width": null,
            "min_height": null,
            "min_width": null,
            "object_fit": null,
            "object_position": null,
            "order": null,
            "overflow": null,
            "overflow_x": null,
            "overflow_y": null,
            "padding": null,
            "right": null,
            "top": null,
            "visibility": null,
            "width": null
          }
        },
        "79ebd262a31544d7bc9afe44ac45e8f2": {
          "model_module": "@jupyter-widgets/controls",
          "model_name": "ProgressStyleModel",
          "model_module_version": "1.5.0",
          "state": {
            "_model_module": "@jupyter-widgets/controls",
            "_model_module_version": "1.5.0",
            "_model_name": "ProgressStyleModel",
            "_view_count": null,
            "_view_module": "@jupyter-widgets/base",
            "_view_module_version": "1.2.0",
            "_view_name": "StyleView",
            "bar_color": null,
            "description_width": ""
          }
        },
        "156c779749ee4ee390ed79281b430982": {
          "model_module": "@jupyter-widgets/base",
          "model_name": "LayoutModel",
          "model_module_version": "1.2.0",
          "state": {
            "_model_module": "@jupyter-widgets/base",
            "_model_module_version": "1.2.0",
            "_model_name": "LayoutModel",
            "_view_count": null,
            "_view_module": "@jupyter-widgets/base",
            "_view_module_version": "1.2.0",
            "_view_name": "LayoutView",
            "align_content": null,
            "align_items": null,
            "align_self": null,
            "border": null,
            "bottom": null,
            "display": null,
            "flex": null,
            "flex_flow": null,
            "grid_area": null,
            "grid_auto_columns": null,
            "grid_auto_flow": null,
            "grid_auto_rows": null,
            "grid_column": null,
            "grid_gap": null,
            "grid_row": null,
            "grid_template_areas": null,
            "grid_template_columns": null,
            "grid_template_rows": null,
            "height": null,
            "justify_content": null,
            "justify_items": null,
            "left": null,
            "margin": null,
            "max_height": null,
            "max_width": null,
            "min_height": null,
            "min_width": null,
            "object_fit": null,
            "object_position": null,
            "order": null,
            "overflow": null,
            "overflow_x": null,
            "overflow_y": null,
            "padding": null,
            "right": null,
            "top": null,
            "visibility": null,
            "width": null
          }
        },
        "f6b296eb246f402aae32ad85550e1209": {
          "model_module": "@jupyter-widgets/controls",
          "model_name": "DescriptionStyleModel",
          "model_module_version": "1.5.0",
          "state": {
            "_model_module": "@jupyter-widgets/controls",
            "_model_module_version": "1.5.0",
            "_model_name": "DescriptionStyleModel",
            "_view_count": null,
            "_view_module": "@jupyter-widgets/base",
            "_view_module_version": "1.2.0",
            "_view_name": "StyleView",
            "description_width": ""
          }
        },
        "fcd3ab9e74e1463baac511e355461190": {
          "model_module": "@jupyter-widgets/controls",
          "model_name": "HBoxModel",
          "model_module_version": "1.5.0",
          "state": {
            "_dom_classes": [],
            "_model_module": "@jupyter-widgets/controls",
            "_model_module_version": "1.5.0",
            "_model_name": "HBoxModel",
            "_view_count": null,
            "_view_module": "@jupyter-widgets/controls",
            "_view_module_version": "1.5.0",
            "_view_name": "HBoxView",
            "box_style": "",
            "children": [
              "IPY_MODEL_a98ee7f469504e968eba6efec9bbe196",
              "IPY_MODEL_5549cceeb92041f398ffa45700e8191a",
              "IPY_MODEL_5b081b04f32b4bc0a1778764baf5a08c"
            ],
            "layout": "IPY_MODEL_dfb69cdd8f604874aa1be712c7d93171"
          }
        },
        "a98ee7f469504e968eba6efec9bbe196": {
          "model_module": "@jupyter-widgets/controls",
          "model_name": "HTMLModel",
          "model_module_version": "1.5.0",
          "state": {
            "_dom_classes": [],
            "_model_module": "@jupyter-widgets/controls",
            "_model_module_version": "1.5.0",
            "_model_name": "HTMLModel",
            "_view_count": null,
            "_view_module": "@jupyter-widgets/controls",
            "_view_module_version": "1.5.0",
            "_view_name": "HTMLView",
            "description": "",
            "description_tooltip": null,
            "layout": "IPY_MODEL_87f4b9050c1d4afebd282e64dbbf8141",
            "placeholder": "​",
            "style": "IPY_MODEL_f4d1121153904137a6c9fc8a674b5ad7",
            "value": "Downloading (…)lve/main/config.json: 100%"
          }
        },
        "5549cceeb92041f398ffa45700e8191a": {
          "model_module": "@jupyter-widgets/controls",
          "model_name": "FloatProgressModel",
          "model_module_version": "1.5.0",
          "state": {
            "_dom_classes": [],
            "_model_module": "@jupyter-widgets/controls",
            "_model_module_version": "1.5.0",
            "_model_name": "FloatProgressModel",
            "_view_count": null,
            "_view_module": "@jupyter-widgets/controls",
            "_view_module_version": "1.5.0",
            "_view_name": "ProgressView",
            "bar_style": "success",
            "description": "",
            "description_tooltip": null,
            "layout": "IPY_MODEL_d1ae7277e73f440cb5fb72cd97afe979",
            "max": 570,
            "min": 0,
            "orientation": "horizontal",
            "style": "IPY_MODEL_42063c2e08a24fcf8c3d2c27849770d2",
            "value": 570
          }
        },
        "5b081b04f32b4bc0a1778764baf5a08c": {
          "model_module": "@jupyter-widgets/controls",
          "model_name": "HTMLModel",
          "model_module_version": "1.5.0",
          "state": {
            "_dom_classes": [],
            "_model_module": "@jupyter-widgets/controls",
            "_model_module_version": "1.5.0",
            "_model_name": "HTMLModel",
            "_view_count": null,
            "_view_module": "@jupyter-widgets/controls",
            "_view_module_version": "1.5.0",
            "_view_name": "HTMLView",
            "description": "",
            "description_tooltip": null,
            "layout": "IPY_MODEL_b608385d859644dc936a90d83797c46c",
            "placeholder": "​",
            "style": "IPY_MODEL_21e5fde95a15428e96145025771c95c0",
            "value": " 570/570 [00:00&lt;00:00, 16.3kB/s]"
          }
        },
        "dfb69cdd8f604874aa1be712c7d93171": {
          "model_module": "@jupyter-widgets/base",
          "model_name": "LayoutModel",
          "model_module_version": "1.2.0",
          "state": {
            "_model_module": "@jupyter-widgets/base",
            "_model_module_version": "1.2.0",
            "_model_name": "LayoutModel",
            "_view_count": null,
            "_view_module": "@jupyter-widgets/base",
            "_view_module_version": "1.2.0",
            "_view_name": "LayoutView",
            "align_content": null,
            "align_items": null,
            "align_self": null,
            "border": null,
            "bottom": null,
            "display": null,
            "flex": null,
            "flex_flow": null,
            "grid_area": null,
            "grid_auto_columns": null,
            "grid_auto_flow": null,
            "grid_auto_rows": null,
            "grid_column": null,
            "grid_gap": null,
            "grid_row": null,
            "grid_template_areas": null,
            "grid_template_columns": null,
            "grid_template_rows": null,
            "height": null,
            "justify_content": null,
            "justify_items": null,
            "left": null,
            "margin": null,
            "max_height": null,
            "max_width": null,
            "min_height": null,
            "min_width": null,
            "object_fit": null,
            "object_position": null,
            "order": null,
            "overflow": null,
            "overflow_x": null,
            "overflow_y": null,
            "padding": null,
            "right": null,
            "top": null,
            "visibility": null,
            "width": null
          }
        },
        "87f4b9050c1d4afebd282e64dbbf8141": {
          "model_module": "@jupyter-widgets/base",
          "model_name": "LayoutModel",
          "model_module_version": "1.2.0",
          "state": {
            "_model_module": "@jupyter-widgets/base",
            "_model_module_version": "1.2.0",
            "_model_name": "LayoutModel",
            "_view_count": null,
            "_view_module": "@jupyter-widgets/base",
            "_view_module_version": "1.2.0",
            "_view_name": "LayoutView",
            "align_content": null,
            "align_items": null,
            "align_self": null,
            "border": null,
            "bottom": null,
            "display": null,
            "flex": null,
            "flex_flow": null,
            "grid_area": null,
            "grid_auto_columns": null,
            "grid_auto_flow": null,
            "grid_auto_rows": null,
            "grid_column": null,
            "grid_gap": null,
            "grid_row": null,
            "grid_template_areas": null,
            "grid_template_columns": null,
            "grid_template_rows": null,
            "height": null,
            "justify_content": null,
            "justify_items": null,
            "left": null,
            "margin": null,
            "max_height": null,
            "max_width": null,
            "min_height": null,
            "min_width": null,
            "object_fit": null,
            "object_position": null,
            "order": null,
            "overflow": null,
            "overflow_x": null,
            "overflow_y": null,
            "padding": null,
            "right": null,
            "top": null,
            "visibility": null,
            "width": null
          }
        },
        "f4d1121153904137a6c9fc8a674b5ad7": {
          "model_module": "@jupyter-widgets/controls",
          "model_name": "DescriptionStyleModel",
          "model_module_version": "1.5.0",
          "state": {
            "_model_module": "@jupyter-widgets/controls",
            "_model_module_version": "1.5.0",
            "_model_name": "DescriptionStyleModel",
            "_view_count": null,
            "_view_module": "@jupyter-widgets/base",
            "_view_module_version": "1.2.0",
            "_view_name": "StyleView",
            "description_width": ""
          }
        },
        "d1ae7277e73f440cb5fb72cd97afe979": {
          "model_module": "@jupyter-widgets/base",
          "model_name": "LayoutModel",
          "model_module_version": "1.2.0",
          "state": {
            "_model_module": "@jupyter-widgets/base",
            "_model_module_version": "1.2.0",
            "_model_name": "LayoutModel",
            "_view_count": null,
            "_view_module": "@jupyter-widgets/base",
            "_view_module_version": "1.2.0",
            "_view_name": "LayoutView",
            "align_content": null,
            "align_items": null,
            "align_self": null,
            "border": null,
            "bottom": null,
            "display": null,
            "flex": null,
            "flex_flow": null,
            "grid_area": null,
            "grid_auto_columns": null,
            "grid_auto_flow": null,
            "grid_auto_rows": null,
            "grid_column": null,
            "grid_gap": null,
            "grid_row": null,
            "grid_template_areas": null,
            "grid_template_columns": null,
            "grid_template_rows": null,
            "height": null,
            "justify_content": null,
            "justify_items": null,
            "left": null,
            "margin": null,
            "max_height": null,
            "max_width": null,
            "min_height": null,
            "min_width": null,
            "object_fit": null,
            "object_position": null,
            "order": null,
            "overflow": null,
            "overflow_x": null,
            "overflow_y": null,
            "padding": null,
            "right": null,
            "top": null,
            "visibility": null,
            "width": null
          }
        },
        "42063c2e08a24fcf8c3d2c27849770d2": {
          "model_module": "@jupyter-widgets/controls",
          "model_name": "ProgressStyleModel",
          "model_module_version": "1.5.0",
          "state": {
            "_model_module": "@jupyter-widgets/controls",
            "_model_module_version": "1.5.0",
            "_model_name": "ProgressStyleModel",
            "_view_count": null,
            "_view_module": "@jupyter-widgets/base",
            "_view_module_version": "1.2.0",
            "_view_name": "StyleView",
            "bar_color": null,
            "description_width": ""
          }
        },
        "b608385d859644dc936a90d83797c46c": {
          "model_module": "@jupyter-widgets/base",
          "model_name": "LayoutModel",
          "model_module_version": "1.2.0",
          "state": {
            "_model_module": "@jupyter-widgets/base",
            "_model_module_version": "1.2.0",
            "_model_name": "LayoutModel",
            "_view_count": null,
            "_view_module": "@jupyter-widgets/base",
            "_view_module_version": "1.2.0",
            "_view_name": "LayoutView",
            "align_content": null,
            "align_items": null,
            "align_self": null,
            "border": null,
            "bottom": null,
            "display": null,
            "flex": null,
            "flex_flow": null,
            "grid_area": null,
            "grid_auto_columns": null,
            "grid_auto_flow": null,
            "grid_auto_rows": null,
            "grid_column": null,
            "grid_gap": null,
            "grid_row": null,
            "grid_template_areas": null,
            "grid_template_columns": null,
            "grid_template_rows": null,
            "height": null,
            "justify_content": null,
            "justify_items": null,
            "left": null,
            "margin": null,
            "max_height": null,
            "max_width": null,
            "min_height": null,
            "min_width": null,
            "object_fit": null,
            "object_position": null,
            "order": null,
            "overflow": null,
            "overflow_x": null,
            "overflow_y": null,
            "padding": null,
            "right": null,
            "top": null,
            "visibility": null,
            "width": null
          }
        },
        "21e5fde95a15428e96145025771c95c0": {
          "model_module": "@jupyter-widgets/controls",
          "model_name": "DescriptionStyleModel",
          "model_module_version": "1.5.0",
          "state": {
            "_model_module": "@jupyter-widgets/controls",
            "_model_module_version": "1.5.0",
            "_model_name": "DescriptionStyleModel",
            "_view_count": null,
            "_view_module": "@jupyter-widgets/base",
            "_view_module_version": "1.2.0",
            "_view_name": "StyleView",
            "description_width": ""
          }
        },
        "06f3cc56489d44e3a5e916953970cd8c": {
          "model_module": "@jupyter-widgets/controls",
          "model_name": "HBoxModel",
          "model_module_version": "1.5.0",
          "state": {
            "_dom_classes": [],
            "_model_module": "@jupyter-widgets/controls",
            "_model_module_version": "1.5.0",
            "_model_name": "HBoxModel",
            "_view_count": null,
            "_view_module": "@jupyter-widgets/controls",
            "_view_module_version": "1.5.0",
            "_view_name": "HBoxView",
            "box_style": "",
            "children": [
              "IPY_MODEL_730f7654303349e0a4480c3c23443809",
              "IPY_MODEL_4bfa89c73a504351b2d48bf208ca4bfd",
              "IPY_MODEL_d28d81c12b2a498b938c1e6ef1871d22"
            ],
            "layout": "IPY_MODEL_0b6cf8f134d74d56a6565ed71ef38d9c"
          }
        },
        "730f7654303349e0a4480c3c23443809": {
          "model_module": "@jupyter-widgets/controls",
          "model_name": "HTMLModel",
          "model_module_version": "1.5.0",
          "state": {
            "_dom_classes": [],
            "_model_module": "@jupyter-widgets/controls",
            "_model_module_version": "1.5.0",
            "_model_name": "HTMLModel",
            "_view_count": null,
            "_view_module": "@jupyter-widgets/controls",
            "_view_module_version": "1.5.0",
            "_view_name": "HTMLView",
            "description": "",
            "description_tooltip": null,
            "layout": "IPY_MODEL_45344bf9de574ba389fa1ef14843d508",
            "placeholder": "​",
            "style": "IPY_MODEL_f49806170f36476c8a78d13816255772",
            "value": "Downloading model.safetensors: 100%"
          }
        },
        "4bfa89c73a504351b2d48bf208ca4bfd": {
          "model_module": "@jupyter-widgets/controls",
          "model_name": "FloatProgressModel",
          "model_module_version": "1.5.0",
          "state": {
            "_dom_classes": [],
            "_model_module": "@jupyter-widgets/controls",
            "_model_module_version": "1.5.0",
            "_model_name": "FloatProgressModel",
            "_view_count": null,
            "_view_module": "@jupyter-widgets/controls",
            "_view_module_version": "1.5.0",
            "_view_name": "ProgressView",
            "bar_style": "success",
            "description": "",
            "description_tooltip": null,
            "layout": "IPY_MODEL_9ef493d9068844bdac31c839152b94c0",
            "max": 440449768,
            "min": 0,
            "orientation": "horizontal",
            "style": "IPY_MODEL_c6f7e005f72e40b285d85f7cf3da7580",
            "value": 440449768
          }
        },
        "d28d81c12b2a498b938c1e6ef1871d22": {
          "model_module": "@jupyter-widgets/controls",
          "model_name": "HTMLModel",
          "model_module_version": "1.5.0",
          "state": {
            "_dom_classes": [],
            "_model_module": "@jupyter-widgets/controls",
            "_model_module_version": "1.5.0",
            "_model_name": "HTMLModel",
            "_view_count": null,
            "_view_module": "@jupyter-widgets/controls",
            "_view_module_version": "1.5.0",
            "_view_name": "HTMLView",
            "description": "",
            "description_tooltip": null,
            "layout": "IPY_MODEL_ac65b828c96b4cd6be1a753f891eb173",
            "placeholder": "​",
            "style": "IPY_MODEL_180125cbeb0c45fc97a8b931d517e6c4",
            "value": " 440M/440M [00:04&lt;00:00, 71.8MB/s]"
          }
        },
        "0b6cf8f134d74d56a6565ed71ef38d9c": {
          "model_module": "@jupyter-widgets/base",
          "model_name": "LayoutModel",
          "model_module_version": "1.2.0",
          "state": {
            "_model_module": "@jupyter-widgets/base",
            "_model_module_version": "1.2.0",
            "_model_name": "LayoutModel",
            "_view_count": null,
            "_view_module": "@jupyter-widgets/base",
            "_view_module_version": "1.2.0",
            "_view_name": "LayoutView",
            "align_content": null,
            "align_items": null,
            "align_self": null,
            "border": null,
            "bottom": null,
            "display": null,
            "flex": null,
            "flex_flow": null,
            "grid_area": null,
            "grid_auto_columns": null,
            "grid_auto_flow": null,
            "grid_auto_rows": null,
            "grid_column": null,
            "grid_gap": null,
            "grid_row": null,
            "grid_template_areas": null,
            "grid_template_columns": null,
            "grid_template_rows": null,
            "height": null,
            "justify_content": null,
            "justify_items": null,
            "left": null,
            "margin": null,
            "max_height": null,
            "max_width": null,
            "min_height": null,
            "min_width": null,
            "object_fit": null,
            "object_position": null,
            "order": null,
            "overflow": null,
            "overflow_x": null,
            "overflow_y": null,
            "padding": null,
            "right": null,
            "top": null,
            "visibility": null,
            "width": null
          }
        },
        "45344bf9de574ba389fa1ef14843d508": {
          "model_module": "@jupyter-widgets/base",
          "model_name": "LayoutModel",
          "model_module_version": "1.2.0",
          "state": {
            "_model_module": "@jupyter-widgets/base",
            "_model_module_version": "1.2.0",
            "_model_name": "LayoutModel",
            "_view_count": null,
            "_view_module": "@jupyter-widgets/base",
            "_view_module_version": "1.2.0",
            "_view_name": "LayoutView",
            "align_content": null,
            "align_items": null,
            "align_self": null,
            "border": null,
            "bottom": null,
            "display": null,
            "flex": null,
            "flex_flow": null,
            "grid_area": null,
            "grid_auto_columns": null,
            "grid_auto_flow": null,
            "grid_auto_rows": null,
            "grid_column": null,
            "grid_gap": null,
            "grid_row": null,
            "grid_template_areas": null,
            "grid_template_columns": null,
            "grid_template_rows": null,
            "height": null,
            "justify_content": null,
            "justify_items": null,
            "left": null,
            "margin": null,
            "max_height": null,
            "max_width": null,
            "min_height": null,
            "min_width": null,
            "object_fit": null,
            "object_position": null,
            "order": null,
            "overflow": null,
            "overflow_x": null,
            "overflow_y": null,
            "padding": null,
            "right": null,
            "top": null,
            "visibility": null,
            "width": null
          }
        },
        "f49806170f36476c8a78d13816255772": {
          "model_module": "@jupyter-widgets/controls",
          "model_name": "DescriptionStyleModel",
          "model_module_version": "1.5.0",
          "state": {
            "_model_module": "@jupyter-widgets/controls",
            "_model_module_version": "1.5.0",
            "_model_name": "DescriptionStyleModel",
            "_view_count": null,
            "_view_module": "@jupyter-widgets/base",
            "_view_module_version": "1.2.0",
            "_view_name": "StyleView",
            "description_width": ""
          }
        },
        "9ef493d9068844bdac31c839152b94c0": {
          "model_module": "@jupyter-widgets/base",
          "model_name": "LayoutModel",
          "model_module_version": "1.2.0",
          "state": {
            "_model_module": "@jupyter-widgets/base",
            "_model_module_version": "1.2.0",
            "_model_name": "LayoutModel",
            "_view_count": null,
            "_view_module": "@jupyter-widgets/base",
            "_view_module_version": "1.2.0",
            "_view_name": "LayoutView",
            "align_content": null,
            "align_items": null,
            "align_self": null,
            "border": null,
            "bottom": null,
            "display": null,
            "flex": null,
            "flex_flow": null,
            "grid_area": null,
            "grid_auto_columns": null,
            "grid_auto_flow": null,
            "grid_auto_rows": null,
            "grid_column": null,
            "grid_gap": null,
            "grid_row": null,
            "grid_template_areas": null,
            "grid_template_columns": null,
            "grid_template_rows": null,
            "height": null,
            "justify_content": null,
            "justify_items": null,
            "left": null,
            "margin": null,
            "max_height": null,
            "max_width": null,
            "min_height": null,
            "min_width": null,
            "object_fit": null,
            "object_position": null,
            "order": null,
            "overflow": null,
            "overflow_x": null,
            "overflow_y": null,
            "padding": null,
            "right": null,
            "top": null,
            "visibility": null,
            "width": null
          }
        },
        "c6f7e005f72e40b285d85f7cf3da7580": {
          "model_module": "@jupyter-widgets/controls",
          "model_name": "ProgressStyleModel",
          "model_module_version": "1.5.0",
          "state": {
            "_model_module": "@jupyter-widgets/controls",
            "_model_module_version": "1.5.0",
            "_model_name": "ProgressStyleModel",
            "_view_count": null,
            "_view_module": "@jupyter-widgets/base",
            "_view_module_version": "1.2.0",
            "_view_name": "StyleView",
            "bar_color": null,
            "description_width": ""
          }
        },
        "ac65b828c96b4cd6be1a753f891eb173": {
          "model_module": "@jupyter-widgets/base",
          "model_name": "LayoutModel",
          "model_module_version": "1.2.0",
          "state": {
            "_model_module": "@jupyter-widgets/base",
            "_model_module_version": "1.2.0",
            "_model_name": "LayoutModel",
            "_view_count": null,
            "_view_module": "@jupyter-widgets/base",
            "_view_module_version": "1.2.0",
            "_view_name": "LayoutView",
            "align_content": null,
            "align_items": null,
            "align_self": null,
            "border": null,
            "bottom": null,
            "display": null,
            "flex": null,
            "flex_flow": null,
            "grid_area": null,
            "grid_auto_columns": null,
            "grid_auto_flow": null,
            "grid_auto_rows": null,
            "grid_column": null,
            "grid_gap": null,
            "grid_row": null,
            "grid_template_areas": null,
            "grid_template_columns": null,
            "grid_template_rows": null,
            "height": null,
            "justify_content": null,
            "justify_items": null,
            "left": null,
            "margin": null,
            "max_height": null,
            "max_width": null,
            "min_height": null,
            "min_width": null,
            "object_fit": null,
            "object_position": null,
            "order": null,
            "overflow": null,
            "overflow_x": null,
            "overflow_y": null,
            "padding": null,
            "right": null,
            "top": null,
            "visibility": null,
            "width": null
          }
        },
        "180125cbeb0c45fc97a8b931d517e6c4": {
          "model_module": "@jupyter-widgets/controls",
          "model_name": "DescriptionStyleModel",
          "model_module_version": "1.5.0",
          "state": {
            "_model_module": "@jupyter-widgets/controls",
            "_model_module_version": "1.5.0",
            "_model_name": "DescriptionStyleModel",
            "_view_count": null,
            "_view_module": "@jupyter-widgets/base",
            "_view_module_version": "1.2.0",
            "_view_name": "StyleView",
            "description_width": ""
          }
        }
      }
    }
  },
  "cells": [
    {
      "cell_type": "markdown",
      "metadata": {
        "id": "view-in-github",
        "colab_type": "text"
      },
      "source": [
        "<a href=\"https://colab.research.google.com/github/math8485/Deep-learning-assignment-2/blob/main/Gradient_Descent_Exercise_Attention_Mechanism_Exercise_Deep_2.ipynb\" target=\"_parent\"><img src=\"https://colab.research.google.com/assets/colab-badge.svg\" alt=\"Open In Colab\"/></a>"
      ]
    },
    {
      "cell_type": "markdown",
      "source": [
        "# PART 2.1 - Gradient Descent Exercise"
      ],
      "metadata": {
        "id": "X5MB3gjYV99L"
      }
    },
    {
      "cell_type": "code",
      "source": [
        "# import necessary libraries\n",
        "import numpy as np  # Matrix and vector computation package\n",
        "import pandas as pd\n",
        "import matplotlib.pyplot as plt  # Plotting library\n",
        "from tqdm import tqdm_notebook\n"
      ],
      "metadata": {
        "id": "iUiYsBgMJD3q"
      },
      "execution_count": null,
      "outputs": []
    },
    {
      "cell_type": "code",
      "source": [
        "import pandas as pd\n",
        "import numpy as np\n",
        "\n",
        "# Set a random seed for reproducibility\n",
        "np.random.seed(42)\n",
        "\n",
        "# Generate 300 observations\n",
        "observations = 300\n",
        "\n",
        "# Generate random values for square meters and price\n",
        "square_meters = np.random.uniform(80, 250, observations)\n",
        "price = 1000 * square_meters + np.random.normal(0, 20000, observations)\n",
        "\n",
        "# Create a pandas DataFrame\n",
        "house_data = pd.DataFrame({'Square Meters': square_meters, 'Price': price})\n",
        "\n",
        "data = pd.DataFrame({'X': square_meters, 'Y': price})\n",
        "\n",
        "# Display the first few rows of the DataFrame\n",
        "print(data.head())\n"
      ],
      "metadata": {
        "colab": {
          "base_uri": "https://localhost:8080/"
        },
        "id": "BlVo_w65LpoU",
        "outputId": "99b6b884-e074-47a2-e663-9e4a2c31e8d9"
      },
      "execution_count": null,
      "outputs": [
        {
          "output_type": "stream",
          "name": "stdout",
          "text": [
            "            X              Y\n",
            "0  143.671820  144583.257002\n",
            "1  241.621432  228589.425138\n",
            "2  204.438970  247317.851894\n",
            "3  181.771942  194450.322760\n",
            "4  106.523169   66020.317142\n"
          ]
        }
      ]
    },
    {
      "cell_type": "code",
      "source": [
        "# Using sklearn\n",
        "from sklearn.preprocessing import MinMaxScaler\n",
        "\n",
        "scaler = MinMaxScaler()\n",
        "data_scaled = scaler.fit_transform(data)\n",
        "data_s = pd.DataFrame(data_scaled, columns=data.columns)"
      ],
      "metadata": {
        "id": "5UUPmuezJtiW"
      },
      "execution_count": null,
      "outputs": []
    },
    {
      "cell_type": "code",
      "source": [
        "# Initializing Hyperparameters\n",
        "epochs = 1\n",
        "learning_rate = 2\n",
        "\n",
        "# Initializing Parameters\n",
        "w = 10\n",
        "\n",
        "# 1. Creating a Neural Network\n",
        "# 1.1 Structure (Architecture) of NN\n",
        "def nn(x, w):\n",
        "    \"\"\"Output function y = x * w\"\"\"\n",
        "    return x * w\n",
        "\n",
        "# 1.2 Loss Function\n",
        "def loss(y, t):\n",
        "    \"\"\"Calculate the Mean Squared Error\"\"\"\n",
        "    return np.mean((t - y)**2)\n",
        "\n",
        "# 1.3 Optmization Approach\n",
        "def gradient(w, x, t):\n",
        "    \"\"\"Compute the gradient.\"\"\"\n",
        "    y = x * w\n",
        "    return np.mean(2 * x * (y - t))\n",
        "\n",
        "def delta_w(w_i, x, t, learning_rate):\n",
        "    \"\"\"Compute the weight update.\"\"\"\n",
        "    return learning_rate * gradient(w_i, x, t)\n",
        "\n",
        "w_his = []\n",
        "w_his.append(w)\n",
        "# Loop over the number of epochs\n",
        "for epoch in range(epochs):\n",
        "    total_loss = 0\n",
        "    for i in range(len(data_s['X'])):\n",
        "        x_i, t_i = data_s['X'][i], data_s['Y'][i]\n",
        "\n",
        "        # 2. Forward Pass\n",
        "        output = nn(x_i, w)\n",
        "\n",
        "        # 3. FeedForward Evaluation\n",
        "        loss_val = loss(output, t_i)\n",
        "\n",
        "        # 4. Backward Pass / Gradient Calculation\n",
        "        grad_value = gradient(w, x_i, t_i)  # Compute gradient\n",
        "        dw = delta_w(w, x_i, t_i, learning_rate)\n",
        "\n",
        "        # 5. Back Propagation / Update Weights\n",
        "        w = w - dw\n",
        "\n",
        "        w_his.append(w)\n",
        "\n",
        "        # Accumulate loss\n",
        "        total_loss += loss_val\n",
        "\n",
        "        # Print gradient, dw, weight, and loss values in a single line\n",
        "        print(f\"Epoch {epoch+1}, Sample {i+1}: Gradient = {grad_value:.4f}, Δw = {dw:.4f}, w: {w:.4f}, loss: {loss_val:.4f}\")\n",
        "\n",
        "    # Print average loss for the epoch\n",
        "    avg_loss = total_loss / len(data_s['X'])\n",
        "    print(f\"Epoch {epoch+1}: Average Loss = {avg_loss:.4f}\\n\")\n"
      ],
      "metadata": {
        "colab": {
          "base_uri": "https://localhost:8080/"
        },
        "id": "M2p9-hSTIhdp",
        "outputId": "f7e614d8-fb7c-4ae6-8dd7-c7ba1871ad52"
      },
      "execution_count": null,
      "outputs": [
        {
          "output_type": "stream",
          "name": "stdout",
          "text": [
            "Epoch 1, Sample 1: Gradient = 2.5165, Δw = 5.0330, w: 4.9670, loss: 11.2516\n",
            "Epoch 1, Sample 2: Gradient = 7.6884, Δw = 15.3769, w: -10.4098, loss: 16.0332\n",
            "Epoch 1, Sample 3: Gradient = -12.5890, Δw = -25.1781, w: 14.7682, loss: 72.7449\n",
            "Epoch 1, Sample 4: Gradient = 9.9856, Δw = 19.9713, w: -5.2030, loss: 68.6393\n",
            "Epoch 1, Sample 5: Gradient = -0.2606, Δw = -0.5212, w: -4.6818, loss: 0.7228\n",
            "Epoch 1, Sample 6: Gradient = -0.2954, Δw = -0.5908, w: -4.0911, loss: 0.9290\n",
            "Epoch 1, Sample 7: Gradient = -0.0344, Δw = -0.0688, w: -4.0223, loss: 0.1021\n",
            "Epoch 1, Sample 8: Gradient = -7.6053, Δw = -15.2107, w: 11.1884, loss: 18.9199\n",
            "Epoch 1, Sample 9: Gradient = 7.5987, Δw = 15.1973, w: -4.0090, loss: 39.4195\n",
            "Epoch 1, Sample 10: Gradient = -4.9850, Δw = -9.9699, w: 5.9610, loss: 12.1957\n",
            "Epoch 1, Sample 11: Gradient = -0.0025, Δw = -0.0050, w: 5.9660, loss: 0.0063\n",
            "Epoch 1, Sample 12: Gradient = 9.6629, Δw = 19.3257, w: -13.3597, loss: 24.3276\n",
            "Epoch 1, Sample 13: Gradient = -19.9085, Δw = -39.8170, w: 26.4572, loss: 140.4337\n",
            "Epoch 1, Sample 14: Gradient = 2.2411, Δw = 4.4821, w: 21.9751, loss: 28.3535\n",
            "Epoch 1, Sample 15: Gradient = 1.3408, Δw = 2.6817, w: 19.2934, loss: 13.9565\n",
            "Epoch 1, Sample 16: Gradient = 1.1950, Δw = 2.3900, w: 16.9035, loss: 10.8899\n",
            "Epoch 1, Sample 17: Gradient = 2.8182, Δw = 5.6365, w: 11.2670, loss: 21.5224\n",
            "Epoch 1, Sample 18: Gradient = 5.7031, Δw = 11.4062, w: -0.1392, loss: 29.2098\n",
            "Epoch 1, Sample 19: Gradient = -0.3340, Δw = -0.6681, w: 0.5289, loss: 0.1485\n",
            "Epoch 1, Sample 20: Gradient = -0.1496, Δw = -0.2992, w: 0.8281, loss: 0.0663\n",
            "Epoch 1, Sample 21: Gradient = -0.3019, Δw = -0.6038, w: 1.4319, loss: 0.0600\n",
            "Epoch 1, Sample 22: Gradient = -0.0308, Δw = -0.0616, w: 1.4935, loss: 0.0127\n",
            "Epoch 1, Sample 23: Gradient = 0.1381, Δw = 0.2762, w: 1.2173, loss: 0.0561\n",
            "Epoch 1, Sample 24: Gradient = 0.0750, Δw = 0.1500, w: 1.0673, loss: 0.0105\n",
            "Epoch 1, Sample 25: Gradient = -0.0693, Δw = -0.1386, w: 1.2059, loss: 0.0057\n",
            "Epoch 1, Sample 26: Gradient = 0.5047, Δw = 1.0095, w: 0.1964, loss: 0.1015\n",
            "Epoch 1, Sample 27: Gradient = -0.1038, Δw = -0.2076, w: 0.4040, loss: 0.0690\n",
            "Epoch 1, Sample 28: Gradient = -0.3678, Δw = -0.7355, w: 1.1395, loss: 0.1265\n",
            "Epoch 1, Sample 29: Gradient = 0.2454, Δw = 0.4907, w: 0.6488, loss: 0.0423\n",
            "Epoch 1, Sample 30: Gradient = -0.0098, Δw = -0.0195, w: 0.6683, loss: 0.0135\n",
            "Epoch 1, Sample 31: Gradient = 0.1546, Δw = 0.3092, w: 0.3590, loss: 0.0160\n",
            "Epoch 1, Sample 32: Gradient = -0.0305, Δw = -0.0611, w: 0.4201, loss: 0.0083\n",
            "Epoch 1, Sample 33: Gradient = -0.0140, Δw = -0.0279, w: 0.4481, loss: 0.0132\n",
            "Epoch 1, Sample 34: Gradient = -0.5397, Δw = -1.0794, w: 1.5275, loss: 0.0793\n",
            "Epoch 1, Sample 35: Gradient = 1.0025, Δw = 2.0051, w: -0.4776, loss: 0.2642\n",
            "Epoch 1, Sample 36: Gradient = -1.5984, Δw = -3.1968, w: 2.7192, loss: 0.9602\n",
            "Epoch 1, Sample 37: Gradient = 0.3192, Δw = 0.6384, w: 2.0809, loss: 0.2754\n",
            "Epoch 1, Sample 38: Gradient = -0.0005, Δw = -0.0009, w: 2.0818, loss: 0.0000\n",
            "Epoch 1, Sample 39: Gradient = 0.9460, Δw = 1.8920, w: 0.1898, loss: 0.4706\n",
            "Epoch 1, Sample 40: Gradient = -0.2050, Δw = -0.4100, w: 0.5998, loss: 0.0538\n",
            "Epoch 1, Sample 41: Gradient = -0.0559, Δw = -0.1118, w: 0.7116, loss: 0.0554\n",
            "Epoch 1, Sample 42: Gradient = -0.1287, Δw = -0.2575, w: 0.9691, loss: 0.0167\n",
            "Epoch 1, Sample 43: Gradient = -0.0015, Δw = -0.0030, w: 0.9720, loss: 0.0006\n",
            "Epoch 1, Sample 44: Gradient = 0.1122, Δw = 0.2244, w: 0.7476, loss: 0.0037\n",
            "Epoch 1, Sample 45: Gradient = -0.0677, Δw = -0.1354, w: 0.8830, loss: 0.0173\n",
            "Epoch 1, Sample 46: Gradient = 0.0466, Δw = 0.0931, w: 0.7899, loss: 0.0012\n",
            "Epoch 1, Sample 47: Gradient = -0.0661, Δw = -0.1322, w: 0.9221, loss: 0.0113\n",
            "Epoch 1, Sample 48: Gradient = 0.0155, Δw = 0.0310, w: 0.8911, loss: 0.0002\n",
            "Epoch 1, Sample 49: Gradient = -0.0449, Δw = -0.0897, w: 0.9809, loss: 0.0017\n",
            "Epoch 1, Sample 50: Gradient = -0.0476, Δw = -0.0953, w: 1.0762, loss: 0.0170\n",
            "Epoch 1, Sample 51: Gradient = 0.1553, Δw = 0.3106, w: 0.7655, loss: 0.0063\n",
            "Epoch 1, Sample 52: Gradient = 0.0250, Δw = 0.0500, w: 0.7155, loss: 0.0003\n",
            "Epoch 1, Sample 53: Gradient = -0.6094, Δw = -1.2188, w: 1.9344, loss: 0.1032\n",
            "Epoch 1, Sample 54: Gradient = 2.0565, Δw = 4.1130, w: -2.1786, loss: 1.2957\n",
            "Epoch 1, Sample 55: Gradient = -2.2353, Δw = -4.4706, w: 2.2920, loss: 3.4482\n",
            "Epoch 1, Sample 56: Gradient = 2.3859, Δw = 4.7719, w: -2.4799, loss: 1.6427\n",
            "Epoch 1, Sample 57: Gradient = -0.0702, Δw = -0.1404, w: -2.3395, loss: 0.1718\n",
            "Epoch 1, Sample 58: Gradient = -0.2554, Δw = -0.5108, w: -1.8287, loss: 0.4340\n",
            "Epoch 1, Sample 59: Gradient = -0.0166, Δw = -0.0333, w: -1.7954, loss: 0.0416\n",
            "Epoch 1, Sample 60: Gradient = -0.5831, Δw = -1.1663, w: -0.6291, loss: 0.8041\n",
            "Epoch 1, Sample 61: Gradient = -0.4648, Δw = -0.9295, w: 0.3004, loss: 0.3560\n",
            "Epoch 1, Sample 62: Gradient = -0.1671, Δw = -0.3343, w: 0.6347, loss: 0.0956\n",
            "Epoch 1, Sample 63: Gradient = -0.3868, Δw = -0.7737, w: 1.4084, loss: 0.0535\n",
            "Epoch 1, Sample 64: Gradient = 0.1314, Δw = 0.2628, w: 1.1456, loss: 0.0339\n",
            "Epoch 1, Sample 65: Gradient = -0.0454, Δw = -0.0908, w: 1.2363, loss: 0.0066\n",
            "Epoch 1, Sample 66: Gradient = 0.1419, Δw = 0.2838, w: 0.9525, loss: 0.0169\n",
            "Epoch 1, Sample 67: Gradient = -0.0438, Δw = -0.0875, w: 1.0400, loss: 0.0252\n",
            "Epoch 1, Sample 68: Gradient = 0.1222, Δw = 0.2444, w: 0.7956, loss: 0.0057\n",
            "Epoch 1, Sample 69: Gradient = -0.0058, Δw = -0.0115, w: 0.8071, loss: 0.0017\n",
            "Epoch 1, Sample 70: Gradient = 0.0101, Δw = 0.0202, w: 0.7869, loss: 0.0000\n",
            "Epoch 1, Sample 71: Gradient = -0.2201, Δw = -0.4402, w: 1.2271, loss: 0.0200\n",
            "Epoch 1, Sample 72: Gradient = -0.0291, Δw = -0.0583, w: 1.2854, loss: 0.0055\n",
            "Epoch 1, Sample 73: Gradient = -0.0001, Δw = -0.0002, w: 1.2856, loss: 0.0134\n",
            "Epoch 1, Sample 74: Gradient = 0.5373, Δw = 1.0745, w: 0.2110, loss: 0.1066\n",
            "Epoch 1, Sample 75: Gradient = -0.8573, Δw = -1.7145, w: 1.9256, loss: 0.3619\n",
            "Epoch 1, Sample 76: Gradient = 1.1914, Δw = 2.3827, w: -0.4572, loss: 0.6569\n",
            "Epoch 1, Sample 77: Gradient = -1.6982, Δw = -3.3964, w: 2.9392, loss: 1.1915\n",
            "Epoch 1, Sample 78: Gradient = 0.0076, Δw = 0.0153, w: 2.9240, loss: 0.0030\n",
            "Epoch 1, Sample 79: Gradient = 0.4932, Δw = 0.9865, w: 1.9375, loss: 0.4725\n",
            "Epoch 1, Sample 80: Gradient = -0.0177, Δw = -0.0353, w: 1.9728, loss: 0.0062\n",
            "Epoch 1, Sample 81: Gradient = 1.5504, Δw = 3.1008, w: -1.1280, loss: 0.7919\n",
            "Epoch 1, Sample 82: Gradient = -1.7036, Δw = -3.4072, w: 2.2792, loss: 1.8418\n",
            "Epoch 1, Sample 83: Gradient = 0.1848, Δw = 0.3697, w: 1.9095, loss: 0.0781\n",
            "Epoch 1, Sample 84: Gradient = -0.0059, Δw = -0.0118, w: 1.9214, loss: 0.0025\n",
            "Epoch 1, Sample 85: Gradient = 0.1190, Δw = 0.2380, w: 1.6834, loss: 0.0367\n",
            "Epoch 1, Sample 86: Gradient = 0.1419, Δw = 0.2837, w: 1.3996, loss: 0.0476\n",
            "Epoch 1, Sample 87: Gradient = 0.5063, Δw = 1.0126, w: 0.3870, loss: 0.1184\n",
            "Epoch 1, Sample 88: Gradient = -0.4220, Δw = -0.8440, w: 1.2310, loss: 0.1080\n",
            "Epoch 1, Sample 89: Gradient = 0.5726, Δw = 1.1452, w: 0.0858, loss: 0.1022\n",
            "Epoch 1, Sample 90: Gradient = -0.4523, Δw = -0.9047, w: 0.9905, loss: 0.2274\n",
            "Epoch 1, Sample 91: Gradient = -0.0038, Δw = -0.0075, w: 0.9980, loss: 0.0003\n",
            "Epoch 1, Sample 92: Gradient = -0.1589, Δw = -0.3178, w: 1.3158, loss: 0.0122\n",
            "Epoch 1, Sample 93: Gradient = 0.6405, Δw = 1.2811, w: 0.0348, loss: 0.1742\n",
            "Epoch 1, Sample 94: Gradient = -0.4583, Δw = -0.9166, w: 0.9513, loss: 0.1647\n",
            "Epoch 1, Sample 95: Gradient = -0.0769, Δw = -0.1539, w: 1.1052, loss: 0.0024\n",
            "Epoch 1, Sample 96: Gradient = -0.0024, Δw = -0.0049, w: 1.1101, loss: 0.0000\n",
            "Epoch 1, Sample 97: Gradient = 0.0270, Δw = 0.0540, w: 1.0560, loss: 0.0007\n",
            "Epoch 1, Sample 98: Gradient = -0.0294, Δw = -0.0588, w: 1.1148, loss: 0.0012\n",
            "Epoch 1, Sample 99: Gradient = -0.0045, Δw = -0.0090, w: 1.1238, loss: 0.0118\n",
            "Epoch 1, Sample 100: Gradient = 0.0003, Δw = 0.0007, w: 1.1232, loss: 0.0000\n",
            "Epoch 1, Sample 101: Gradient = -0.0061, Δw = -0.0122, w: 1.1354, loss: 0.0130\n",
            "Epoch 1, Sample 102: Gradient = 0.2556, Δw = 0.5111, w: 0.6242, loss: 0.0397\n",
            "Epoch 1, Sample 103: Gradient = -0.1491, Δw = -0.2981, w: 0.9223, loss: 0.0563\n",
            "Epoch 1, Sample 104: Gradient = -0.0083, Δw = -0.0167, w: 0.9390, loss: 0.0001\n",
            "Epoch 1, Sample 105: Gradient = 0.2624, Δw = 0.5248, w: 0.4142, loss: 0.0205\n",
            "Epoch 1, Sample 106: Gradient = -0.0837, Δw = -0.1673, w: 0.5815, loss: 0.0285\n",
            "Epoch 1, Sample 107: Gradient = -0.1780, Δw = -0.3560, w: 0.9375, loss: 0.0468\n",
            "Epoch 1, Sample 108: Gradient = 0.1331, Δw = 0.2663, w: 0.6713, loss: 0.0076\n",
            "Epoch 1, Sample 109: Gradient = -0.0272, Δw = -0.0543, w: 0.7256, loss: 0.0036\n",
            "Epoch 1, Sample 110: Gradient = -0.0204, Δw = -0.0408, w: 0.7664, loss: 0.0195\n",
            "Epoch 1, Sample 111: Gradient = -0.0749, Δw = -0.1498, w: 0.9162, loss: 0.0168\n",
            "Epoch 1, Sample 112: Gradient = -0.0141, Δw = -0.0281, w: 0.9443, loss: 0.0020\n",
            "Epoch 1, Sample 113: Gradient = 0.2286, Δw = 0.4573, w: 0.4871, loss: 0.0148\n",
            "Epoch 1, Sample 114: Gradient = -0.5522, Δw = -1.1044, w: 1.5915, loss: 0.1147\n",
            "Epoch 1, Sample 115: Gradient = 0.7102, Δw = 1.4203, w: 0.1712, loss: 0.3098\n",
            "Epoch 1, Sample 116: Gradient = -0.8599, Δw = -1.7197, w: 1.8909, loss: 0.2389\n",
            "Epoch 1, Sample 117: Gradient = 1.4333, Δw = 2.8665, w: -0.9756, loss: 0.7813\n",
            "Epoch 1, Sample 118: Gradient = -0.1526, Δw = -0.3051, w: -0.6705, loss: 0.1714\n",
            "Epoch 1, Sample 119: Gradient = -2.5402, Δw = -5.0805, w: 4.4100, loss: 1.9871\n",
            "Epoch 1, Sample 120: Gradient = 1.8957, Δw = 3.7915, w: 0.6185, loss: 3.0537\n",
            "Epoch 1, Sample 121: Gradient = -0.4663, Δw = -0.9326, w: 1.5511, loss: 0.0819\n",
            "Epoch 1, Sample 122: Gradient = 1.1510, Δw = 2.3020, w: -0.7509, loss: 0.4047\n",
            "Epoch 1, Sample 123: Gradient = -0.3734, Δw = -0.7467, w: -0.0042, loss: 0.3453\n",
            "Epoch 1, Sample 124: Gradient = -0.0231, Δw = -0.0463, w: 0.0421, loss: 0.0118\n",
            "Epoch 1, Sample 125: Gradient = -0.1233, Δw = -0.2466, w: 0.2887, loss: 0.0743\n",
            "Epoch 1, Sample 126: Gradient = -0.2424, Δw = -0.4849, w: 0.7736, loss: 0.0800\n",
            "Epoch 1, Sample 127: Gradient = -0.1859, Δw = -0.3718, w: 1.1453, loss: 0.0127\n",
            "Epoch 1, Sample 128: Gradient = 0.5435, Δw = 1.0869, w: 0.0584, loss: 0.0978\n",
            "Epoch 1, Sample 129: Gradient = -0.0006, Δw = -0.0013, w: 0.0597, loss: 0.0271\n",
            "Epoch 1, Sample 130: Gradient = -0.6137, Δw = -1.2274, w: 1.2871, loss: 0.3572\n",
            "Epoch 1, Sample 131: Gradient = 0.1036, Δw = 0.2071, w: 1.0800, loss: 0.0153\n",
            "Epoch 1, Sample 132: Gradient = -0.0337, Δw = -0.0674, w: 1.1474, loss: 0.0059\n",
            "Epoch 1, Sample 133: Gradient = -0.0303, Δw = -0.0606, w: 1.2080, loss: 0.0169\n",
            "Epoch 1, Sample 134: Gradient = 0.0525, Δw = 0.1049, w: 1.1030, loss: 0.0060\n",
            "Epoch 1, Sample 135: Gradient = 0.4092, Δw = 0.8183, w: 0.2847, loss: 0.0462\n",
            "Epoch 1, Sample 136: Gradient = -0.1703, Δw = -0.3407, w: 0.6254, loss: 0.0695\n",
            "Epoch 1, Sample 137: Gradient = -0.1904, Δw = -0.3807, w: 1.0061, loss: 0.0333\n",
            "Epoch 1, Sample 138: Gradient = 0.2032, Δw = 0.4064, w: 0.5997, loss: 0.0206\n",
            "Epoch 1, Sample 139: Gradient = -0.1226, Δw = -0.2453, w: 0.8450, loss: 0.0284\n",
            "Epoch 1, Sample 140: Gradient = -0.1011, Δw = -0.2022, w: 1.0473, loss: 0.0027\n",
            "Epoch 1, Sample 141: Gradient = 0.1177, Δw = 0.2353, w: 0.8119, loss: 0.0037\n",
            "Epoch 1, Sample 142: Gradient = -0.0912, Δw = -0.1824, w: 0.9943, loss: 0.0331\n",
            "Epoch 1, Sample 143: Gradient = -0.1757, Δw = -0.3513, w: 1.3456, loss: 0.0309\n",
            "Epoch 1, Sample 144: Gradient = 0.0801, Δw = 0.1602, w: 1.1854, loss: 0.0178\n",
            "Epoch 1, Sample 145: Gradient = -0.0373, Δw = -0.0746, w: 1.2600, loss: 0.0043\n",
            "Epoch 1, Sample 146: Gradient = -0.0075, Δw = -0.0151, w: 1.2751, loss: 0.0136\n",
            "Epoch 1, Sample 147: Gradient = 0.0284, Δw = 0.0568, w: 1.2183, loss: 0.0005\n",
            "Epoch 1, Sample 148: Gradient = 0.2002, Δw = 0.4004, w: 0.8179, loss: 0.0393\n",
            "Epoch 1, Sample 149: Gradient = -0.0038, Δw = -0.0076, w: 0.8255, loss: 0.0016\n",
            "Epoch 1, Sample 150: Gradient = -0.0220, Δw = -0.0440, w: 0.8695, loss: 0.0016\n",
            "Epoch 1, Sample 151: Gradient = 0.3545, Δw = 0.7090, w: 0.1605, loss: 0.0374\n",
            "Epoch 1, Sample 152: Gradient = -0.0991, Δw = -0.1981, w: 0.3587, loss: 0.0433\n",
            "Epoch 1, Sample 153: Gradient = -0.0297, Δw = -0.0593, w: 0.4180, loss: 0.0109\n",
            "Epoch 1, Sample 154: Gradient = -0.2812, Δw = -0.5624, w: 0.9804, loss: 0.0817\n",
            "Epoch 1, Sample 155: Gradient = 0.1961, Δw = 0.3921, w: 0.5882, loss: 0.0097\n",
            "Epoch 1, Sample 156: Gradient = -0.1525, Δw = -0.3050, w: 0.8932, loss: 0.1004\n",
            "Epoch 1, Sample 157: Gradient = -0.1254, Δw = -0.2507, w: 1.1439, loss: 0.0086\n",
            "Epoch 1, Sample 158: Gradient = 0.3814, Δw = 0.7628, w: 0.3811, loss: 0.0617\n",
            "Epoch 1, Sample 159: Gradient = -0.0577, Δw = -0.1154, w: 0.4965, loss: 0.0149\n",
            "Epoch 1, Sample 160: Gradient = -0.4912, Δw = -0.9824, w: 1.4789, loss: 0.1119\n",
            "Epoch 1, Sample 161: Gradient = 0.2007, Δw = 0.4014, w: 1.0776, loss: 0.0743\n",
            "Epoch 1, Sample 162: Gradient = -0.0749, Δw = -0.1497, w: 1.2273, loss: 0.0035\n",
            "Epoch 1, Sample 163: Gradient = 0.1203, Δw = 0.2406, w: 0.9867, loss: 0.0089\n",
            "Epoch 1, Sample 164: Gradient = 0.0646, Δw = 0.1292, w: 0.8575, loss: 0.0036\n",
            "Epoch 1, Sample 165: Gradient = 0.0074, Δw = 0.0149, w: 0.8426, loss: 0.0018\n",
            "Epoch 1, Sample 166: Gradient = -0.2428, Δw = -0.4855, w: 1.3281, loss: 0.0207\n",
            "Epoch 1, Sample 167: Gradient = 0.0532, Δw = 0.1064, w: 1.2217, loss: 0.0069\n",
            "Epoch 1, Sample 168: Gradient = -0.0502, Δw = -0.1003, w: 1.3220, loss: 0.0185\n",
            "Epoch 1, Sample 169: Gradient = 0.0031, Δw = 0.0063, w: 1.3158, loss: 0.0019\n",
            "Epoch 1, Sample 170: Gradient = 0.3346, Δw = 0.6692, w: 0.6466, loss: 0.0791\n",
            "Epoch 1, Sample 171: Gradient = -0.2421, Δw = -0.4841, w: 1.1307, loss: 0.0314\n",
            "Epoch 1, Sample 172: Gradient = -0.0027, Δw = -0.0055, w: 1.1362, loss: 0.0137\n",
            "Epoch 1, Sample 173: Gradient = 0.1330, Δw = 0.2659, w: 0.8703, loss: 0.0167\n",
            "Epoch 1, Sample 174: Gradient = -0.0636, Δw = -0.1272, w: 0.9975, loss: 0.0200\n",
            "Epoch 1, Sample 175: Gradient = 0.1918, Δw = 0.3835, w: 0.6140, loss: 0.0218\n",
            "Epoch 1, Sample 176: Gradient = -0.0432, Δw = -0.0865, w: 0.7004, loss: 0.0158\n",
            "Epoch 1, Sample 177: Gradient = -0.2103, Δw = -0.4207, w: 1.1211, loss: 0.0228\n",
            "Epoch 1, Sample 178: Gradient = -0.0097, Δw = -0.0193, w: 1.1404, loss: 0.0002\n",
            "Epoch 1, Sample 179: Gradient = 0.3882, Δw = 0.7764, w: 0.3640, loss: 0.0421\n",
            "Epoch 1, Sample 180: Gradient = -0.0185, Δw = -0.0371, w: 0.4011, loss: 0.0047\n",
            "Epoch 1, Sample 181: Gradient = -0.0660, Δw = -0.1319, w: 0.5330, loss: 0.0093\n",
            "Epoch 1, Sample 182: Gradient = -0.0554, Δw = -0.1108, w: 0.6438, loss: 0.0633\n",
            "Epoch 1, Sample 183: Gradient = -0.4298, Δw = -0.8597, w: 1.5035, loss: 0.0530\n",
            "Epoch 1, Sample 184: Gradient = 1.1159, Δw = 2.2318, w: -0.7283, loss: 0.3970\n",
            "Epoch 1, Sample 185: Gradient = -0.3228, Δw = -0.6457, w: -0.0826, loss: 0.3953\n",
            "Epoch 1, Sample 186: Gradient = -0.8913, Δw = -1.7825, w: 1.7000, loss: 0.4492\n",
            "Epoch 1, Sample 187: Gradient = 0.9502, Δw = 1.9004, w: -0.2004, loss: 0.3320\n",
            "Epoch 1, Sample 188: Gradient = -0.7206, Δw = -1.4411, w: 1.2407, loss: 0.4161\n",
            "Epoch 1, Sample 189: Gradient = -0.0297, Δw = -0.0593, w: 1.3001, loss: 0.0008\n",
            "Epoch 1, Sample 190: Gradient = -0.0650, Δw = -0.1300, w: 1.4300, loss: 0.0183\n",
            "Epoch 1, Sample 191: Gradient = -0.0060, Δw = -0.0120, w: 1.4421, loss: 0.0011\n",
            "Epoch 1, Sample 192: Gradient = 0.7958, Δw = 1.5916, w: -0.1496, loss: 0.1930\n",
            "Epoch 1, Sample 193: Gradient = -1.7755, Δw = -3.5510, w: 3.4014, loss: 0.9538\n",
            "Epoch 1, Sample 194: Gradient = 1.8666, Δw = 3.7331, w: -0.3318, loss: 2.1425\n",
            "Epoch 1, Sample 195: Gradient = -0.2674, Δw = -0.5348, w: 0.2030, loss: 0.1555\n",
            "Epoch 1, Sample 196: Gradient = -0.2537, Δw = -0.5074, w: 0.7104, loss: 0.1318\n",
            "Epoch 1, Sample 197: Gradient = -0.3323, Δw = -0.6647, w: 1.3751, loss: 0.0516\n",
            "Epoch 1, Sample 198: Gradient = 1.1187, Δw = 2.2375, w: -0.8624, loss: 0.3815\n",
            "Epoch 1, Sample 199: Gradient = -2.5840, Δw = -5.1681, w: 4.3057, loss: 2.0818\n",
            "Epoch 1, Sample 200: Gradient = 4.5169, Δw = 9.0338, w: -4.7281, loss: 8.2431\n",
            "Epoch 1, Sample 201: Gradient = -4.6894, Δw = -9.3788, w: 4.6507, loss: 13.1463\n",
            "Epoch 1, Sample 202: Gradient = 0.0215, Δw = 0.0430, w: 4.6077, loss: 0.0179\n",
            "Epoch 1, Sample 203: Gradient = 0.1165, Δw = 0.2331, w: 4.3746, loss: 0.1344\n",
            "Epoch 1, Sample 204: Gradient = 5.7674, Δw = 11.5349, w: -7.1602, loss: 10.1062\n",
            "Epoch 1, Sample 205: Gradient = -6.2023, Δw = -12.4047, w: 5.2445, loss: 25.8009\n",
            "Epoch 1, Sample 206: Gradient = 0.0002, Δw = 0.0004, w: 5.2441, loss: 0.0005\n",
            "Epoch 1, Sample 207: Gradient = 0.0926, Δw = 0.1852, w: 5.0589, loss: 0.2236\n",
            "Epoch 1, Sample 208: Gradient = 3.7151, Δw = 7.4302, w: -2.3713, loss: 7.7218\n",
            "Epoch 1, Sample 209: Gradient = 0.0000, Δw = 0.0000, w: -2.3713, loss: 0.0229\n",
            "Epoch 1, Sample 210: Gradient = -0.1916, Δw = -0.3831, w: -1.9882, loss: 0.3669\n",
            "Epoch 1, Sample 211: Gradient = -1.5882, Δw = -3.1765, w: 1.1883, loss: 2.0700\n",
            "Epoch 1, Sample 212: Gradient = 0.2894, Δw = 0.5787, w: 0.6096, loss: 0.0430\n",
            "Epoch 1, Sample 213: Gradient = -0.1112, Δw = -0.2223, w: 0.8320, loss: 0.0072\n",
            "Epoch 1, Sample 214: Gradient = -0.0687, Δw = -0.1374, w: 0.9694, loss: 0.0238\n",
            "Epoch 1, Sample 215: Gradient = 0.0284, Δw = 0.0568, w: 0.9126, loss: 0.0004\n",
            "Epoch 1, Sample 216: Gradient = 0.0032, Δw = 0.0065, w: 0.9061, loss: 0.0000\n",
            "Epoch 1, Sample 217: Gradient = -0.0107, Δw = -0.0215, w: 0.9276, loss: 0.0003\n",
            "Epoch 1, Sample 218: Gradient = 0.1827, Δw = 0.3655, w: 0.5621, loss: 0.0147\n",
            "Epoch 1, Sample 219: Gradient = -0.2934, Δw = -0.5868, w: 1.1489, loss: 0.0503\n",
            "Epoch 1, Sample 220: Gradient = 0.2656, Δw = 0.5312, w: 0.6177, loss: 0.0240\n",
            "Epoch 1, Sample 221: Gradient = -0.1430, Δw = -0.2859, w: 0.9036, loss: 0.0116\n",
            "Epoch 1, Sample 222: Gradient = -0.0736, Δw = -0.1473, w: 1.0509, loss: 0.0041\n",
            "Epoch 1, Sample 223: Gradient = -0.0077, Δw = -0.0154, w: 1.0663, loss: 0.0018\n",
            "Epoch 1, Sample 224: Gradient = 0.0547, Δw = 0.1095, w: 0.9568, loss: 0.0055\n",
            "Epoch 1, Sample 225: Gradient = -0.0260, Δw = -0.0521, w: 1.0089, loss: 0.0024\n",
            "Epoch 1, Sample 226: Gradient = 0.0193, Δw = 0.0386, w: 0.9703, loss: 0.0016\n",
            "Epoch 1, Sample 227: Gradient = 0.3220, Δw = 0.6439, w: 0.3264, loss: 0.0268\n",
            "Epoch 1, Sample 228: Gradient = -0.1364, Δw = -0.2728, w: 0.5992, loss: 0.0300\n",
            "Epoch 1, Sample 229: Gradient = -0.7391, Δw = -1.4783, w: 2.0774, loss: 0.1684\n",
            "Epoch 1, Sample 230: Gradient = 0.9326, Δw = 1.8652, w: 0.2122, loss: 0.5382\n",
            "Epoch 1, Sample 231: Gradient = -0.7603, Δw = -1.5206, w: 1.7328, loss: 0.2248\n",
            "Epoch 1, Sample 232: Gradient = 0.3723, Δw = 0.7447, w: 0.9882, loss: 0.1358\n",
            "Epoch 1, Sample 233: Gradient = 0.0466, Δw = 0.0933, w: 0.8949, loss: 0.0016\n",
            "Epoch 1, Sample 234: Gradient = -0.0181, Δw = -0.0363, w: 0.9312, loss: 0.0003\n",
            "Epoch 1, Sample 235: Gradient = -0.0515, Δw = -0.1029, w: 1.0341, loss: 0.0178\n",
            "Epoch 1, Sample 236: Gradient = 0.0512, Δw = 0.1025, w: 0.9317, loss: 0.0012\n",
            "Epoch 1, Sample 237: Gradient = -0.0088, Δw = -0.0176, w: 0.9493, loss: 0.0002\n",
            "Epoch 1, Sample 238: Gradient = -0.0025, Δw = -0.0049, w: 0.9542, loss: 0.0040\n",
            "Epoch 1, Sample 239: Gradient = 0.0651, Δw = 0.1303, w: 0.8240, loss: 0.0025\n",
            "Epoch 1, Sample 240: Gradient = 0.0348, Δw = 0.0696, w: 0.7543, loss: 0.0099\n",
            "Epoch 1, Sample 241: Gradient = 0.0666, Δw = 0.1332, w: 0.6211, loss: 0.0012\n",
            "Epoch 1, Sample 242: Gradient = -0.6653, Δw = -1.3306, w: 1.9517, loss: 0.1192\n",
            "Epoch 1, Sample 243: Gradient = 1.5957, Δw = 3.1914, w: -1.2397, loss: 0.7461\n",
            "Epoch 1, Sample 244: Gradient = -0.6132, Δw = -1.2264, w: -0.0133, loss: 0.6843\n",
            "Epoch 1, Sample 245: Gradient = -0.0037, Δw = -0.0074, w: -0.0058, loss: 0.0310\n",
            "Epoch 1, Sample 246: Gradient = -1.5703, Δw = -3.1405, w: 3.1347, loss: 0.7016\n",
            "Epoch 1, Sample 247: Gradient = 0.5535, Δw = 1.1071, w: 2.0276, loss: 0.4151\n",
            "Epoch 1, Sample 248: Gradient = 2.0461, Δw = 4.0923, w: -2.0647, loss: 1.0982\n",
            "Epoch 1, Sample 249: Gradient = -5.5067, Δw = -11.0133, w: 8.9486, loss: 8.0047\n",
            "Epoch 1, Sample 250: Gradient = 12.1182, Δw = 24.2365, w: -15.2878, loss: 49.5389\n",
            "Epoch 1, Sample 251: Gradient = -2.7523, Δw = -5.5046, w: -9.7833, loss: 21.9399\n",
            "Epoch 1, Sample 252: Gradient = -3.2356, Δw = -6.4712, w: -3.3121, loss: 17.5819\n",
            "Epoch 1, Sample 253: Gradient = -6.0578, Δw = -12.1156, w: 8.8035, loss: 12.4341\n",
            "Epoch 1, Sample 254: Gradient = 1.6223, Δw = 3.2446, w: 5.5589, loss: 6.5636\n",
            "Epoch 1, Sample 255: Gradient = 0.2486, Δw = 0.4971, w: 5.0618, loss: 0.5542\n",
            "Epoch 1, Sample 256: Gradient = 2.6905, Δw = 5.3811, w: -0.3193, loss: 5.7679\n",
            "Epoch 1, Sample 257: Gradient = -2.3826, Δw = -4.7653, w: 4.4460, loss: 1.5883\n",
            "Epoch 1, Sample 258: Gradient = 3.3807, Δw = 6.7614, w: -2.3154, loss: 5.8063\n",
            "Epoch 1, Sample 259: Gradient = -2.1404, Δw = -4.2807, w: 1.9653, loss: 3.4808\n",
            "Epoch 1, Sample 260: Gradient = -0.0247, Δw = -0.0494, w: 2.0148, loss: 0.0175\n",
            "Epoch 1, Sample 261: Gradient = 0.8287, Δw = 1.6574, w: 0.3574, loss: 0.4477\n",
            "Epoch 1, Sample 262: Gradient = -0.8361, Δw = -1.6722, w: 2.0296, loss: 0.1748\n",
            "Epoch 1, Sample 263: Gradient = -0.0201, Δw = -0.0402, w: 2.0699, loss: 0.0054\n",
            "Epoch 1, Sample 264: Gradient = 0.5540, Δw = 1.1081, w: 0.9618, loss: 0.2826\n",
            "Epoch 1, Sample 265: Gradient = 0.3110, Δw = 0.6220, w: 0.3398, loss: 0.0308\n",
            "Epoch 1, Sample 266: Gradient = -0.5898, Δw = -1.1797, w: 1.5195, loss: 0.1559\n",
            "Epoch 1, Sample 267: Gradient = 0.7184, Δw = 1.4369, w: 0.0826, loss: 0.2615\n",
            "Epoch 1, Sample 268: Gradient = -0.6475, Δw = -1.2950, w: 1.3776, loss: 0.2091\n",
            "Epoch 1, Sample 269: Gradient = 0.0238, Δw = 0.0476, w: 1.3300, loss: 0.0011\n",
            "Epoch 1, Sample 270: Gradient = -0.0645, Δw = -0.1290, w: 1.4590, loss: 0.0121\n",
            "Epoch 1, Sample 271: Gradient = 0.9757, Δw = 1.9515, w: -0.4924, loss: 0.3570\n",
            "Epoch 1, Sample 272: Gradient = -1.9104, Δw = -3.8208, w: 3.3284, loss: 1.3659\n",
            "Epoch 1, Sample 273: Gradient = 3.8689, Δw = 7.7378, w: -4.4095, loss: 4.8861\n",
            "Epoch 1, Sample 274: Gradient = -8.8820, Δw = -17.7641, w: 13.3546, loss: 23.2000\n",
            "Epoch 1, Sample 275: Gradient = 6.6012, Δw = 13.2025, w: 0.1521, loss: 41.2356\n",
            "Epoch 1, Sample 276: Gradient = -0.3376, Δw = -0.6752, w: 0.8274, loss: 0.1122\n",
            "Epoch 1, Sample 277: Gradient = -0.0742, Δw = -0.1485, w: 0.9758, loss: 0.0021\n",
            "Epoch 1, Sample 278: Gradient = 0.1492, Δw = 0.2984, w: 0.6775, loss: 0.0130\n",
            "Epoch 1, Sample 279: Gradient = -0.2558, Δw = -0.5117, w: 1.1891, loss: 0.0327\n",
            "Epoch 1, Sample 280: Gradient = 0.4058, Δw = 0.8116, w: 0.3776, loss: 0.0639\n",
            "Epoch 1, Sample 281: Gradient = -0.7480, Δw = -1.4959, w: 1.8735, loss: 0.1733\n",
            "Epoch 1, Sample 282: Gradient = 0.2347, Δw = 0.4694, w: 1.4041, loss: 0.1205\n",
            "Epoch 1, Sample 283: Gradient = 0.1393, Δw = 0.2786, w: 1.1255, loss: 0.0343\n",
            "Epoch 1, Sample 284: Gradient = -0.0268, Δw = -0.0536, w: 1.1791, loss: 0.0220\n",
            "Epoch 1, Sample 285: Gradient = 0.1140, Δw = 0.2280, w: 0.9511, loss: 0.0096\n",
            "Epoch 1, Sample 286: Gradient = -0.0016, Δw = -0.0032, w: 0.9543, loss: 0.0006\n",
            "Epoch 1, Sample 287: Gradient = -0.0215, Δw = -0.0431, w: 0.9974, loss: 0.0005\n",
            "Epoch 1, Sample 288: Gradient = -0.0429, Δw = -0.0858, w: 1.0832, loss: 0.0015\n",
            "Epoch 1, Sample 289: Gradient = 0.0734, Δw = 0.1468, w: 0.9364, loss: 0.0165\n",
            "Epoch 1, Sample 290: Gradient = -0.0529, Δw = -0.1057, w: 1.0421, loss: 0.0020\n",
            "Epoch 1, Sample 291: Gradient = -0.0027, Δw = -0.0053, w: 1.0475, loss: 0.0027\n",
            "Epoch 1, Sample 292: Gradient = -0.0103, Δw = -0.0206, w: 1.0681, loss: 0.0248\n",
            "Epoch 1, Sample 293: Gradient = 0.3770, Δw = 0.7540, w: 0.3141, loss: 0.0516\n",
            "Epoch 1, Sample 294: Gradient = -0.0799, Δw = -0.1598, w: 0.4739, loss: 0.0123\n",
            "Epoch 1, Sample 295: Gradient = -0.0018, Δw = -0.0036, w: 0.4775, loss: 0.0001\n",
            "Epoch 1, Sample 296: Gradient = -0.2690, Δw = -0.5380, w: 1.0155, loss: 0.0656\n",
            "Epoch 1, Sample 297: Gradient = 0.1224, Δw = 0.2449, w: 0.7706, loss: 0.0062\n",
            "Epoch 1, Sample 298: Gradient = -0.0131, Δw = -0.0261, w: 0.7968, loss: 0.0009\n",
            "Epoch 1, Sample 299: Gradient = -0.1678, Δw = -0.3355, w: 1.1323, loss: 0.0179\n",
            "Epoch 1, Sample 300: Gradient = 0.0098, Δw = 0.0196, w: 1.1127, loss: 0.0036\n",
            "Epoch 1: Average Loss = 2.7512\n",
            "\n"
          ]
        }
      ]
    },
    {
      "cell_type": "code",
      "source": [
        "def plot_loss_vs_weight(data, loss_function, nn_function):\n",
        "    # Vector of weights and their corresponding losses\n",
        "    ws = np.linspace(-40, 40, num=1000)\n",
        "    loss_ws = np.vectorize(lambda w: loss_function(nn_function(data.X, w), data.Y))(ws)\n",
        "\n",
        "    # Plot\n",
        "    plt.figure(figsize=(5, 3))\n",
        "    plt.plot(ws, loss_ws, 'r--', label='loss')\n",
        "    plt.xlabel('$w$', fontsize=12)\n",
        "    plt.ylabel('$\\\\xi$', fontsize=12)\n",
        "    plt.title('Loss function with respect to $w$')\n",
        "    plt.xlim(-60, 60)\n",
        "    plt.legend()\n",
        "    plt.show()\n",
        "    return loss_ws, ws\n",
        "\n",
        "# Using the function to plot\n",
        "loss_ws, ws = plot_loss_vs_weight(data_s, loss, nn)"
      ],
      "metadata": {
        "colab": {
          "base_uri": "https://localhost:8080/",
          "height": 339
        },
        "id": "xuHsg3FFKAEs",
        "outputId": "43de109b-859a-4c86-e667-72dff45675ca"
      },
      "execution_count": null,
      "outputs": [
        {
          "output_type": "display_data",
          "data": {
            "text/plain": [
              "<Figure size 500x300 with 1 Axes>"
            ],
            "image/png": "[encoded data removed]"
          },
          "metadata": {}
        }
      ]
    },
    {
      "cell_type": "code",
      "source": [
        "# Plotting Loss Function Curve\n",
        "plt.figure(figsize=(10, 5))\n",
        "plt.plot(ws, loss_ws, 'r--', label='Loss Function', linewidth=2)\n",
        "\n",
        "# Plotting w values from the training\n",
        "plt.scatter(w_his, np.interp(w_his, ws, loss_ws), color='blue', s=20, label='Training $w$ Values')\n",
        "plt.plot(w_his, np.interp(w_his, ws, loss_ws), color='blue', linestyle='-', linewidth=0.5)\n",
        "\n",
        "plt.title('Movement of $w$ on Loss Function Curve from Training Results')\n",
        "plt.xlabel('$w$')\n",
        "plt.ylabel('Loss')\n",
        "plt.xlim(-40, 40)\n",
        "plt.legend()\n",
        "plt.grid(True)\n",
        "plt.show()"
      ],
      "metadata": {
        "colab": {
          "base_uri": "https://localhost:8080/",
          "height": 489
        },
        "id": "CPmAEYIeJ1Uw",
        "outputId": "dac80eba-0c2d-4cbb-c5f5-04ff8721aa34"
      },
      "execution_count": null,
      "outputs": [
        {
          "output_type": "display_data",
          "data": {
            "text/plain": [
              "<Figure size 1000x500 with 1 Axes>"
            ],
            "image/png": "[encoded data removed]"
          },
          "metadata": {}
        }
      ]
    },
    {
      "cell_type": "markdown",
      "source": [
        "Now we do this by hand because reasons"
      ],
      "metadata": {
        "id": "jSBhxYGTNc4s"
      }
    },
    {
      "cell_type": "markdown",
      "source": [
        "First we just look at and call the true values of the first observations for our two variables"
      ],
      "metadata": {
        "id": "ppqIjJJdORf5"
      }
    },
    {
      "cell_type": "code",
      "source": [
        "data_s['Y'][0]"
      ],
      "metadata": {
        "colab": {
          "base_uri": "https://localhost:8080/"
        },
        "id": "zMTLxXNoMOvD",
        "outputId": "6bb8999e-9d52-404c-bedc-e35fdf6950f9"
      },
      "execution_count": null,
      "outputs": [
        {
          "output_type": "execute_result",
          "data": {
            "text/plain": [
              "0.3967435458012375"
            ]
          },
          "metadata": {},
          "execution_count": 7
        }
      ]
    },
    {
      "cell_type": "code",
      "source": [
        "data_s['X'][0]"
      ],
      "metadata": {
        "colab": {
          "base_uri": "https://localhost:8080/"
        },
        "id": "Ez2WwWvEOK1t",
        "outputId": "55319353-47db-4bfd-92f9-4406710c58c8"
      },
      "execution_count": null,
      "outputs": [
        {
          "output_type": "execute_result",
          "data": {
            "text/plain": [
              "0.3751080568427013"
            ]
          },
          "metadata": {},
          "execution_count": 8
        }
      ]
    },
    {
      "cell_type": "markdown",
      "source": [
        "We then calculate our output, based on the output function y = x * w"
      ],
      "metadata": {
        "id": "qi676CjtOZrh"
      }
    },
    {
      "cell_type": "code",
      "source": [
        "# Output\n",
        "data_s['X'][0] * 10"
      ],
      "metadata": {
        "colab": {
          "base_uri": "https://localhost:8080/"
        },
        "id": "0hHgu9bhOPfA",
        "outputId": "b85589aa-e8c1-4373-c5d1-d64ebd27c416"
      },
      "execution_count": null,
      "outputs": [
        {
          "output_type": "execute_result",
          "data": {
            "text/plain": [
              "3.751080568427013"
            ]
          },
          "metadata": {},
          "execution_count": 9
        }
      ]
    },
    {
      "cell_type": "markdown",
      "source": [
        "next we find calculate the loss function by using the function mean((t - y)**2)"
      ],
      "metadata": {
        "id": "6_H52rOJPDld"
      }
    },
    {
      "cell_type": "code",
      "source": [
        "# Loss function\n",
        "np.mean((data_s['Y'][0] - (data_s['X'][0] * 10))**2)"
      ],
      "metadata": {
        "colab": {
          "base_uri": "https://localhost:8080/"
        },
        "id": "PqzY1VnKPUga",
        "outputId": "e6af87fd-5203-4990-f933-8c7f15da87c6"
      },
      "execution_count": null,
      "outputs": [
        {
          "output_type": "execute_result",
          "data": {
            "text/plain": [
              "11.251576861357954"
            ]
          },
          "metadata": {},
          "execution_count": 10
        }
      ]
    },
    {
      "cell_type": "markdown",
      "source": [
        "Now calculating the gradiant"
      ],
      "metadata": {
        "id": "oYC1WfUWR-2Q"
      }
    },
    {
      "cell_type": "code",
      "source": [
        "# Gradient\n",
        "np.mean(2 * (data_s['X'][0] * ((data_s['X'][0] * 10) - data_s['Y'][0])))"
      ],
      "metadata": {
        "colab": {
          "base_uri": "https://localhost:8080/"
        },
        "id": "I_nCcaHBSGcr",
        "outputId": "99f1ebdb-89c3-45d1-ac19-4310b9f509d0"
      },
      "execution_count": null,
      "outputs": [
        {
          "output_type": "execute_result",
          "data": {
            "text/plain": [
              "2.516477685105374"
            ]
          },
          "metadata": {},
          "execution_count": 11
        }
      ]
    },
    {
      "cell_type": "markdown",
      "source": [
        "Lastly calculating the new weight"
      ],
      "metadata": {
        "id": "jAG522_YTgRG"
      }
    },
    {
      "cell_type": "code",
      "source": [
        "# New weight\n",
        "10 - (2 * np.mean(2 * (data_s['X'][0] * ((data_s['X'][0] * 10) - data_s['Y'][0]))))"
      ],
      "metadata": {
        "colab": {
          "base_uri": "https://localhost:8080/"
        },
        "id": "pf7XK1TJSVtb",
        "outputId": "7e6bcdca-9f1d-4c13-9cad-2e825c679269"
      },
      "execution_count": null,
      "outputs": [
        {
          "output_type": "execute_result",
          "data": {
            "text/plain": [
              "4.967044629789252"
            ]
          },
          "metadata": {},
          "execution_count": 12
        }
      ]
    },
    {
      "cell_type": "markdown",
      "source": [
        "From the above calculations we get the following:\n",
        "Loss = 11.25\n",
        "Gradient = 2.52\n",
        "New Weight = 4.97\n",
        "\n",
        "Based on this we repeat the process for the second observation"
      ],
      "metadata": {
        "id": "6ZkNIHL8TtVf"
      }
    },
    {
      "cell_type": "code",
      "source": [
        "# Output\n",
        "data_s['X'][1] * 10"
      ],
      "metadata": {
        "colab": {
          "base_uri": "https://localhost:8080/"
        },
        "id": "1bS09XiBTv3s",
        "outputId": "b785c80a-50d8-4edd-e6b9-1cba287b657d"
      },
      "execution_count": null,
      "outputs": [
        {
          "output_type": "execute_result",
          "data": {
            "text/plain": [
              "9.600610633789067"
            ]
          },
          "metadata": {},
          "execution_count": 13
        }
      ]
    },
    {
      "cell_type": "code",
      "source": [
        "# Loss function\n",
        "np.mean((data_s['Y'][1] - (data_s['X'][1] * 4.967044629789252))**2)"
      ],
      "metadata": {
        "colab": {
          "base_uri": "https://localhost:8080/"
        },
        "id": "lxikTI_FUe3P",
        "outputId": "2a8756d1-0f58-4969-b6ae-ad00ed97072b"
      },
      "execution_count": null,
      "outputs": [
        {
          "output_type": "execute_result",
          "data": {
            "text/plain": [
              "16.033155862597592"
            ]
          },
          "metadata": {},
          "execution_count": 14
        }
      ]
    },
    {
      "cell_type": "code",
      "source": [
        "# Gradient\n",
        "np.mean(2 * (data_s['X'][1] * ((data_s['X'][1] * 4.967044629789252) - data_s['Y'][1])))"
      ],
      "metadata": {
        "colab": {
          "base_uri": "https://localhost:8080/"
        },
        "id": "3aA-ENijUjno",
        "outputId": "401eb74a-6c54-4f59-9b07-13b14c3f717b"
      },
      "execution_count": null,
      "outputs": [
        {
          "output_type": "execute_result",
          "data": {
            "text/plain": [
              "7.688442301793686"
            ]
          },
          "metadata": {},
          "execution_count": 15
        }
      ]
    },
    {
      "cell_type": "code",
      "source": [
        "# New weight\n",
        "4.967044629789252 - (2 * np.mean(2 * (data_s['X'][1] * ((data_s['X'][1] * 4.967044629789252) - data_s['Y'][1]))))"
      ],
      "metadata": {
        "colab": {
          "base_uri": "https://localhost:8080/"
        },
        "id": "PTglreTtVDUI",
        "outputId": "4b3f7d6e-eedd-427f-f423-fb8ebc82e298"
      },
      "execution_count": null,
      "outputs": [
        {
          "output_type": "execute_result",
          "data": {
            "text/plain": [
              "-10.409839973798121"
            ]
          },
          "metadata": {},
          "execution_count": 16
        }
      ]
    },
    {
      "cell_type": "markdown",
      "source": [
        "# PART 2.2 - Attention Mechanism Exercise"
      ],
      "metadata": {
        "id": "HMqSWhBDVg30"
      }
    },
    {
      "cell_type": "markdown",
      "source": [
        "The key unlocked the mystery box, revealing its hidden contents.\n",
        "\n",
        "Learning to play the piano key by key requires patience and practice."
      ],
      "metadata": {
        "id": "C12FMk7AVjQ-"
      }
    },
    {
      "cell_type": "code",
      "source": [
        "import torch\n",
        "from sklearn.decomposition import PCA"
      ],
      "metadata": {
        "id": "xAwWV6gVfWT3"
      },
      "execution_count": null,
      "outputs": []
    },
    {
      "cell_type": "code",
      "source": [
        "!pip install transformers --q"
      ],
      "metadata": {
        "colab": {
          "base_uri": "https://localhost:8080/"
        },
        "id": "W2ABeTAPiH-g",
        "outputId": "4b7694fa-acec-4af5-88b8-96be9487876d"
      },
      "execution_count": null,
      "outputs": [
        {
          "output_type": "stream",
          "name": "stdout",
          "text": [
            "\u001b[2K     \u001b[90m━━━━━━━━━━━━━━━━━━━━━━━━━━━━━━━━━━━━━━━━\u001b[0m \u001b[32m7.9/7.9 MB\u001b[0m \u001b[31m28.7 MB/s\u001b[0m eta \u001b[36m0:00:00\u001b[0m\n",
            "\u001b[2K     \u001b[90m━━━━━━━━━━━━━━━━━━━━━━━━━━━━━━━━━━━━━━━━\u001b[0m \u001b[32m311.1/311.1 kB\u001b[0m \u001b[31m8.3 MB/s\u001b[0m eta \u001b[36m0:00:00\u001b[0m\n",
            "\u001b[2K     \u001b[90m━━━━━━━━━━━━━━━━━━━━━━━━━━━━━━━━━━━━━━━━\u001b[0m \u001b[32m3.8/3.8 MB\u001b[0m \u001b[31m58.6 MB/s\u001b[0m eta \u001b[36m0:00:00\u001b[0m\n",
            "\u001b[2K     \u001b[90m━━━━━━━━━━━━━━━━━━━━━━━━━━━━━━━━━━━━━━━━\u001b[0m \u001b[32m1.3/1.3 MB\u001b[0m \u001b[31m49.2 MB/s\u001b[0m eta \u001b[36m0:00:00\u001b[0m\n",
            "\u001b[2K     \u001b[90m━━━━━━━━━━━━━━━━━━━━━━━━━━━━━━━━━━━━━━━━\u001b[0m \u001b[32m295.0/295.0 kB\u001b[0m \u001b[31m19.6 MB/s\u001b[0m eta \u001b[36m0:00:00\u001b[0m\n",
            "\u001b[?25h"
          ]
        }
      ]
    },
    {
      "cell_type": "markdown",
      "source": [
        "First of we tokenize our sentences and create text embeddings using the BERT model"
      ],
      "metadata": {
        "id": "xfW4grXCd9o3"
      }
    },
    {
      "cell_type": "code",
      "source": [
        "from transformers import BertTokenizer, BertModel\n",
        "\n",
        "# Initialize the tokenizer and model\n",
        "tokenizer = BertTokenizer.from_pretrained('bert-base-uncased')\n",
        "model = BertModel.from_pretrained('bert-base-uncased')\n",
        "\n",
        "# Tokenize the two sentences\n",
        "sentence1 = \"the key unlocked the mystery box revealing its hidden contents\"\n",
        "sentence2 = \"learning to play the piano key by key requires patience and practice\"\n",
        "inputs1 = tokenizer(sentence1, return_tensors=\"pt\", add_special_tokens=True)\n",
        "inputs2 = tokenizer(sentence2, return_tensors=\"pt\", add_special_tokens=True)\n",
        "\n",
        "# Get the token IDs for the two sentences (input to the model)\n",
        "input_ids1 = inputs1['input_ids']\n",
        "input_ids2 = inputs2['input_ids']\n",
        "\n",
        "# Forward pass through BERT to get the embeddings\n",
        "with torch.no_grad():\n",
        "    outputs1 = model(input_ids1)\n",
        "\n",
        "with torch.no_grad():\n",
        "    outputs2 = model(input_ids2)\n",
        "\n",
        "# Remove the batch dimension\n",
        "embeddings1 = outputs1.last_hidden_state.squeeze(0)\n",
        "embeddings2 = outputs2.last_hidden_state.squeeze(0)"
      ],
      "metadata": {
        "id": "nKKqSn--he4-",
        "colab": {
          "base_uri": "https://localhost:8080/",
          "height": 177,
          "referenced_widgets": [
            "23a4678a2a23468dbcdcfca2c9701a69",
            "15f82c6faed74a23b6b2d9373e2b8f7e",
            "b528f6c805bd4aed8e5b1f325ac59ad8",
            "e135a9f3a7ea4ffbbf750c3d40859e53",
            "3d25c467c0ce4d0ba5e39276c96fbd0f",
            "9421e52bbe7c4e94a298f1b9790dd748",
            "3e603e166b70438ea5e7722c29522c91",
            "791a7ce481c345a59e05f62f8af6d6d6",
            "7cc2757ecc034b55a3b5556eca1b4a25",
            "10bf2d014f744b1eada45a235659775b",
            "c8cce6a645af47c49968f4e7a7c5134d",
            "c9ca7bac50b4418b996817cf94007116",
            "c74096b6ee314147bae4e69bcedb1d7b",
            "15d217558b4e48ec8b5d27b6334be838",
            "56dbdd552fe7405ebf8d3b1e260fca5a",
            "0c4d2a365dad4576a7fa9a471b287a74",
            "27658c95532e43568c84124636803187",
            "0d588d1cc24249d8a09d2e4f8e9cd457",
            "17b4ca98f7814b30b7d4592184edb866",
            "482bf4b885304706b97a0f2d9eb24bc9",
            "8e86444bcb2f41b7be3f2c849c2572bb",
            "69d677a4ef8f452eae5684d6c1045497",
            "46441dc9a6434938be53ea6f9307c871",
            "a011eaee3a6f445095ee78a19b6a371c",
            "b4308067ae324623957518bdeb9100ea",
            "fcef4f706501488282da8b6c1843d359",
            "90a6315cba6d47a4b4c18664d865192a",
            "fbe1ce330d5147599dadfebb016174f4",
            "34e91715e25942b9818c699379b968aa",
            "69afb8abe33e4be8902a2a4c4b52f3c8",
            "79ebd262a31544d7bc9afe44ac45e8f2",
            "156c779749ee4ee390ed79281b430982",
            "f6b296eb246f402aae32ad85550e1209",
            "fcd3ab9e74e1463baac511e355461190",
            "a98ee7f469504e968eba6efec9bbe196",
            "5549cceeb92041f398ffa45700e8191a",
            "5b081b04f32b4bc0a1778764baf5a08c",
            "dfb69cdd8f604874aa1be712c7d93171",
            "87f4b9050c1d4afebd282e64dbbf8141",
            "f4d1121153904137a6c9fc8a674b5ad7",
            "d1ae7277e73f440cb5fb72cd97afe979",
            "42063c2e08a24fcf8c3d2c27849770d2",
            "b608385d859644dc936a90d83797c46c",
            "21e5fde95a15428e96145025771c95c0",
            "06f3cc56489d44e3a5e916953970cd8c",
            "730f7654303349e0a4480c3c23443809",
            "4bfa89c73a504351b2d48bf208ca4bfd",
            "d28d81c12b2a498b938c1e6ef1871d22",
            "0b6cf8f134d74d56a6565ed71ef38d9c",
            "45344bf9de574ba389fa1ef14843d508",
            "f49806170f36476c8a78d13816255772",
            "9ef493d9068844bdac31c839152b94c0",
            "c6f7e005f72e40b285d85f7cf3da7580",
            "ac65b828c96b4cd6be1a753f891eb173",
            "180125cbeb0c45fc97a8b931d517e6c4"
          ]
        },
        "outputId": "5fc27d45-bd60-4981-d6d0-66058c527b57"
      },
      "execution_count": null,
      "outputs": [
        {
          "output_type": "display_data",
          "data": {
            "text/plain": [
              "Downloading (…)okenizer_config.json:   0%|          | 0.00/28.0 [00:00<?, ?B/s]"
            ],
            "application/vnd.jupyter.widget-view+json": {
              "version_major": 2,
              "version_minor": 0,
              "model_id": "23a4678a2a23468dbcdcfca2c9701a69"
            }
          },
          "metadata": {}
        },
        {
          "output_type": "display_data",
          "data": {
            "text/plain": [
              "Downloading (…)solve/main/vocab.txt:   0%|          | 0.00/232k [00:00<?, ?B/s]"
            ],
            "application/vnd.jupyter.widget-view+json": {
              "version_major": 2,
              "version_minor": 0,
              "model_id": "c9ca7bac50b4418b996817cf94007116"
            }
          },
          "metadata": {}
        },
        {
          "output_type": "display_data",
          "data": {
            "text/plain": [
              "Downloading (…)/main/tokenizer.json:   0%|          | 0.00/466k [00:00<?, ?B/s]"
            ],
            "application/vnd.jupyter.widget-view+json": {
              "version_major": 2,
              "version_minor": 0,
              "model_id": "46441dc9a6434938be53ea6f9307c871"
            }
          },
          "metadata": {}
        },
        {
          "output_type": "display_data",
          "data": {
            "text/plain": [
              "Downloading (…)lve/main/config.json:   0%|          | 0.00/570 [00:00<?, ?B/s]"
            ],
            "application/vnd.jupyter.widget-view+json": {
              "version_major": 2,
              "version_minor": 0,
              "model_id": "fcd3ab9e74e1463baac511e355461190"
            }
          },
          "metadata": {}
        },
        {
          "output_type": "display_data",
          "data": {
            "text/plain": [
              "Downloading model.safetensors:   0%|          | 0.00/440M [00:00<?, ?B/s]"
            ],
            "application/vnd.jupyter.widget-view+json": {
              "version_major": 2,
              "version_minor": 0,
              "model_id": "06f3cc56489d44e3a5e916953970cd8c"
            }
          },
          "metadata": {}
        }
      ]
    },
    {
      "cell_type": "markdown",
      "source": [
        "Just looking at the shape of the embeddings"
      ],
      "metadata": {
        "id": "64QLY5PFeIOi"
      }
    },
    {
      "cell_type": "code",
      "source": [
        "embeddings1.shape"
      ],
      "metadata": {
        "colab": {
          "base_uri": "https://localhost:8080/"
        },
        "id": "TC6hgE-Vijb-",
        "outputId": "c4f83b95-03e4-4385-9f15-07e62db577c0"
      },
      "execution_count": null,
      "outputs": [
        {
          "output_type": "execute_result",
          "data": {
            "text/plain": [
              "torch.Size([12, 768])"
            ]
          },
          "metadata": {},
          "execution_count": 21
        }
      ]
    },
    {
      "cell_type": "code",
      "source": [
        "embeddings2.shape"
      ],
      "metadata": {
        "colab": {
          "base_uri": "https://localhost:8080/"
        },
        "id": "ycheyUdiUh0u",
        "outputId": "72afabce-bea0-40ca-8c9d-ea2f55552d31"
      },
      "execution_count": null,
      "outputs": [
        {
          "output_type": "execute_result",
          "data": {
            "text/plain": [
              "torch.Size([14, 768])"
            ]
          },
          "metadata": {},
          "execution_count": 22
        }
      ]
    },
    {
      "cell_type": "markdown",
      "source": [
        "Nextt up we use dimentionality reduction to better visualize the model later. At the same tine given the simplicity of the task and the over kvalified BERT model, we run into problems if we dont use dimentionality reduction. In the later heatmap the wheights of the words will be 0 except with themself"
      ],
      "metadata": {
        "id": "C6qUpZK0eNfT"
      }
    },
    {
      "cell_type": "code",
      "source": [
        "# Create a PCA object to reduce to 2 dimensions\n",
        "pca = PCA(n_components=2)\n",
        "\n",
        "# Fit and transform the embeddings using PCA\n",
        "reduced_embeddings1 = pca.fit_transform(embeddings1[2:11])\n",
        "reduced_embeddings2 = pca.fit_transform(embeddings1[2:13])"
      ],
      "metadata": {
        "id": "_QD6V-UCXjKd"
      },
      "execution_count": null,
      "outputs": []
    },
    {
      "cell_type": "markdown",
      "source": [
        "After using PCA we follow the three steps of attention mechanism"
      ],
      "metadata": {
        "id": "0lNn5SVwe-Dd"
      }
    },
    {
      "cell_type": "code",
      "source": [
        "# Initialize matrices for Q, K, V\n",
        "Q_1 = np.array(reduced_embeddings1)\n",
        "K_1 = np.array(reduced_embeddings1)\n",
        "V_1 = np.array(reduced_embeddings1)\n",
        "\n",
        "# Initialize matrices for Q, K, V\n",
        "Q_2 = np.array(reduced_embeddings2)\n",
        "K_2 = np.array(reduced_embeddings2)\n",
        "V_2 = np.array(reduced_embeddings2)\n",
        "\n",
        "\n",
        "# Step 1: Similarity - Calculate dot products for Q and K (attention scores)\n",
        "attention_scores_1 = Q_1.dot(K_1.T)\n",
        "attention_scores_2 = Q_2.dot(K_2.T)\n",
        "\n",
        "\n",
        "# Step 2: Weights - Apply softmax to attention scores\n",
        "def softmax(x):\n",
        "    e_x = np.exp(x - np.max(x))\n",
        "    return e_x / e_x.sum(axis=0)\n",
        "\n",
        "attention_weights_1 = np.apply_along_axis(softmax, 1, attention_scores_1)\n",
        "attention_weights_2 = np.apply_along_axis(softmax, 1, attention_scores_2)\n",
        "\n",
        "# Step 3: Contextualized vector - Multiply attention weights by V and sum to get output vectors\n",
        "attention_output_1 = attention_weights_1.dot(V_1)\n",
        "attention_output_2 = attention_weights_2.dot(V_2)"
      ],
      "metadata": {
        "id": "jYqB0t11Q-qA"
      },
      "execution_count": null,
      "outputs": []
    },
    {
      "cell_type": "markdown",
      "source": [
        "Next part just shows the results from the three steps"
      ],
      "metadata": {
        "id": "cch3i2HKc0dS"
      }
    },
    {
      "cell_type": "code",
      "source": [
        "print(attention_scores_1)\n",
        "print(attention_scores_2)"
      ],
      "metadata": {
        "colab": {
          "base_uri": "https://localhost:8080/"
        },
        "id": "MzAz9ih9TEnR",
        "outputId": "dce40cc9-7eec-499e-d8c8-394e4361f937"
      },
      "execution_count": null,
      "outputs": [
        {
          "output_type": "stream",
          "name": "stdout",
          "text": [
            "[[ 70.83539937  18.59022571 -31.63644263  28.22072273  15.1301893\n",
            "  -24.26851789 -41.03394922 -17.54339877 -18.2942286 ]\n",
            " [ 18.59022571  19.5052461   10.28497976   5.67658592 -14.27451803\n",
            "   14.22999382 -15.80903747  -8.04275859 -30.16071723]\n",
            " [-31.63644263  10.28497976  37.7513965  -14.80212178 -29.94424703\n",
            "   37.01684528  11.92155547   3.46529028 -24.05725586]\n",
            " [ 28.22072273   5.67658592 -14.80212178  11.44765638   8.18556054\n",
            "  -12.10461655 -15.75183278  -6.58260934  -4.28934511]\n",
            " [ 15.1301893  -14.27451803 -29.94424703   8.18556054  25.99144441\n",
            "  -30.87950309  -2.47770207   0.54222053  27.72655544]\n",
            " [-24.26851789  14.22999382  37.01684528 -12.10461655 -30.87950309\n",
            "   37.32525988   6.96034384   1.16765371 -29.44745899]\n",
            " [-41.03394922 -15.80903747  11.92155547 -15.75183278  -2.47770207\n",
            "    6.96034384  25.50707391  11.34753034  19.33601798]\n",
            " [-17.54339877  -8.04275859   3.46529028  -6.58260934   0.54222053\n",
            "    1.16765371  11.34753034   5.1532848   10.49278703]\n",
            " [-18.2942286  -30.16071723 -24.05725586  -4.28934511  27.72655544\n",
            "  -29.44745899  19.33601798  10.49278703  48.69364533]]\n",
            "[[ 5.08611205e+01  1.99537443e-01 -3.83786211e+01  2.43214786e+01\n",
            "   3.27167619e+01 -3.49641884e+01 -1.84774105e+01 -3.56386935e+00\n",
            "   1.67667348e+01 -2.94815438e+01]\n",
            " [ 1.99537443e-01  2.05029013e+00  3.29461869e+00  1.92905387e+00\n",
            "   1.17299129e+00  3.67299845e+00  3.82150699e+00  4.41925739e+00\n",
            "   5.71591233e-01 -2.11318455e+01]\n",
            " [-3.83786211e+01  3.29461869e+00  3.47509110e+01 -1.52701136e+01\n",
            "  -2.29312923e+01  3.27879914e+01  2.04883646e+01  1.01414085e+01\n",
            "  -1.18015276e+01 -1.30817395e+01]\n",
            " [ 2.43214786e+01  1.92905387e+00 -1.52701136e+01  1.32708857e+01\n",
            "   1.65795642e+01 -1.33108115e+01 -5.35193605e+00  2.26207309e+00\n",
            "   8.47028659e+00 -3.29004810e+01]\n",
            " [ 3.27167619e+01  1.17299129e+00 -2.29312923e+01  1.65795642e+01\n",
            "   2.15777333e+01 -2.05489021e+01 -9.90094283e+00 -3.28534716e-02\n",
            "   1.10431297e+01 -2.96761895e+01]\n",
            " [-3.49641884e+01  3.67299845e+00  3.27879914e+01 -1.33108115e+01\n",
            "  -2.05489021e+01  3.11192890e+01  1.99413887e+01  1.06916458e+01\n",
            "  -1.05858582e+01 -1.88035531e+01]\n",
            " [-1.84774105e+01  3.82150699e+00  2.04883646e+01 -5.35193605e+00\n",
            "  -9.90094283e+00  1.99413887e+01  1.41111535e+01  9.71773341e+00\n",
            "  -5.13018462e+00 -2.92196732e+01]\n",
            " [-3.56386935e+00  4.41925739e+00  1.01414085e+01  2.26207309e+00\n",
            "  -3.28534716e-02  1.06916458e+01  9.71773341e+00  9.83915345e+00\n",
            "  -8.07450527e-02 -4.33938037e+01]\n",
            " [ 1.67667348e+01  5.71591233e-01 -1.18015276e+01  8.47028659e+00\n",
            "   1.10431297e+01 -1.05858582e+01 -5.13018462e+00 -8.07450527e-02\n",
            "   5.65210789e+00 -1.49055347e+01]\n",
            " [-2.94815438e+01 -2.11318455e+01 -1.30817395e+01 -3.29004810e+01\n",
            "  -2.96761895e+01 -1.88035531e+01 -2.92196732e+01 -4.33938037e+01\n",
            "  -1.49055347e+01  2.32594364e+02]]\n"
          ]
        }
      ]
    },
    {
      "cell_type": "code",
      "source": [
        "print(attention_weights_1)\n",
        "print(attention_weights_2)"
      ],
      "metadata": {
        "colab": {
          "base_uri": "https://localhost:8080/"
        },
        "id": "Rc30tMcOWugL",
        "outputId": "85ffe0e8-2473-48e6-be18-2636aeca7c0f"
      },
      "execution_count": null,
      "outputs": [
        {
          "output_type": "stream",
          "name": "stdout",
          "text": [
            "[[1.00000000e+00 2.04272249e-23 3.14083028e-45 3.10943215e-19\n",
            "  6.41999442e-25 4.97615070e-42 2.60470901e-49 4.14548789e-39\n",
            "  1.95656553e-39]\n",
            " [2.84912357e-01 7.11376630e-01 7.04350454e-05 7.02083527e-07\n",
            "  1.51961801e-15 3.63987640e-03 3.27567727e-16 7.72953146e-13\n",
            "  1.91622182e-22]\n",
            " [4.95523900e-31 7.96722390e-13 6.75803212e-01 1.01418517e-23\n",
            "  2.69138493e-30 3.24196788e-01 4.09319865e-12 8.70068638e-16\n",
            "  9.69758507e-28]\n",
            " [9.99999946e-01 1.61884684e-10 2.06735953e-19 5.19457257e-08\n",
            "  1.98993822e-09 3.06851073e-18 7.99763843e-20 7.67546877e-16\n",
            "  7.60425911e-15]\n",
            " [2.87685902e-06 4.88220989e-19 7.64433319e-26 2.77271116e-09\n",
            "  1.49934558e-01 3.00028880e-26 6.48497820e-14 1.32875295e-12\n",
            "  8.50062562e-01]\n",
            " [1.02555788e-27 5.37837866e-11 4.23501764e-01 1.96641604e-22\n",
            "  1.37989418e-30 5.76498236e-01 3.74526457e-14 1.14221838e-16\n",
            "  5.77796140e-30]\n",
            " [1.26093782e-29 1.13692980e-18 1.25596386e-06 1.20386374e-18\n",
            "  7.00582120e-13 8.79731834e-09 9.97913358e-01 7.07426290e-07\n",
            "  2.08466991e-03]\n",
            " [1.98673758e-13 2.65592686e-09 2.64300651e-04 1.14380206e-08\n",
            "  1.42110173e-05 2.65611790e-05 7.00344291e-01 1.42950256e-03\n",
            "  2.97921119e-01]\n",
            " [8.08231918e-30 5.67525613e-35 2.53913072e-32 9.76741441e-24\n",
            "  7.83625500e-10 1.15810939e-34 1.77887093e-13 2.56789957e-17\n",
            "  9.99999999e-01]]\n",
            "[[9.99999987e-001 9.95300043e-023 1.75255899e-039 2.97837887e-012\n",
            "  1.31827240e-008 5.32772647e-038 7.70297674e-031 2.30954919e-024\n",
            "  1.55953966e-015 1.28122148e-035]\n",
            " [5.65408988e-003 3.59860674e-002 1.24893379e-001 3.18773454e-002\n",
            "  1.49667789e-002 1.82333999e-001 2.11526166e-001 3.84559723e-001\n",
            "  8.20245047e-003 3.07794464e-012]\n",
            " [1.52465689e-032 1.91262667e-014 8.76848078e-001 1.65603469e-022\n",
            "  7.79581924e-026 1.23151361e-001 5.60762791e-007 1.79950572e-011\n",
            "  5.31443595e-021 1.47729827e-021]\n",
            " [9.99549954e-001 1.88320685e-010 6.38843555e-018 1.58705878e-005\n",
            "  4.34044068e-004 4.53219523e-017 1.29659481e-013 2.62740146e-010\n",
            "  1.30532693e-007 1.40806673e-025]\n",
            " [9.99985368e-001 1.99851835e-014 6.79752432e-025 9.81064921e-008\n",
            "  1.45336596e-005 7.36223524e-024 3.09998549e-019 5.98434214e-015\n",
            "  3.86593704e-010 7.99980014e-028]\n",
            " [3.16668701e-030 1.90775321e-013 8.41400879e-001 8.02688919e-021\n",
            "  5.76878597e-024 1.58596904e-001 2.21714616e-006 2.13148359e-010\n",
            "  1.22455818e-019 3.30430324e-023]\n",
            " [7.56148106e-018 3.65513730e-008 6.32743942e-001 3.79252104e-012\n",
            "  4.01161696e-014 3.66167155e-001 1.07557424e-003 1.32923660e-005\n",
            "  4.73405634e-012 1.63418583e-022]\n",
            " [2.70271119e-007 7.92186675e-004 2.42061755e-001 9.16166266e-005\n",
            "  9.23209687e-006 4.19653833e-001 1.58462473e-001 1.78919834e-001\n",
            "  8.80037753e-006 1.36106520e-024]\n",
            " [9.96480090e-001 9.22586581e-008 3.90328178e-013 2.48523202e-004\n",
            "  3.25640561e-003 1.31640161e-012 3.08146573e-010 4.80508511e-008\n",
            "  1.48404641e-005 1.75136528e-014]\n",
            " [1.52012513e-114 6.42846444e-111 2.01476242e-107 4.97798748e-116\n",
            "  1.25125487e-114 6.59586567e-110 1.97518730e-114 1.37994455e-120\n",
            "  3.25206832e-108 1.00000000e+000]]\n"
          ]
        }
      ]
    },
    {
      "cell_type": "code",
      "source": [
        "print(attention_output_1)\n",
        "print(attention_output_2)"
      ],
      "metadata": {
        "colab": {
          "base_uri": "https://localhost:8080/"
        },
        "id": "SiejbziKWx7c",
        "outputId": "95150b4a-b06e-4d0e-f421-c9e8bc788eeb"
      },
      "execution_count": null,
      "outputs": [
        {
          "output_type": "stream",
          "name": "stdout",
          "text": [
            "[[ 6.84907004 -4.89138415]\n",
            " [ 1.62857257 -4.53077932]\n",
            " [-5.7517071  -2.0742717 ]\n",
            " [ 6.84906984 -4.89138396]\n",
            " [ 2.40732487  6.08630042]\n",
            " [-5.64908295 -2.3106175 ]\n",
            " [-3.19065982  3.91166644]\n",
            " [-1.62447581  4.72174111]\n",
            " [ 2.08484579  6.65935908]]\n",
            "[[-2.42039952  6.7084116 ]\n",
            " [-1.79850325 -2.84765141]\n",
            " [-0.48684498 -5.83394094]\n",
            " [-2.42032157  6.70720234]\n",
            " [-2.42039694  6.70837287]\n",
            " [-0.50110686 -5.82104072]\n",
            " [-0.58597661 -5.74275972]\n",
            " [-1.21644614 -4.54204553]\n",
            " [-2.4197892   6.69876447]\n",
            " [15.21177734  1.09370671]]\n"
          ]
        }
      ]
    },
    {
      "cell_type": "markdown",
      "source": [
        "Lastly we create two heatmaps for the different sentences"
      ],
      "metadata": {
        "id": "2CfIS7K7fQ6V"
      }
    },
    {
      "cell_type": "code",
      "source": [
        "import seaborn as sns\n",
        "\n",
        "# Preparing sentences\n",
        "sen1 = [\"the\", \"key\", \"unlocked\", \"mystery\", \"box\", \"revealing\", \"its\", \"hidden\", \"contents\"]\n",
        "sen2 = [\"learning\", \"to\", \"play\", \"the\", \"piano\", \"key\", \"by\", \"requires\", \"patience\", \"and\", \"practice\"]\n",
        "\n",
        "# Set up the plot\n",
        "fig, axes = plt.subplots(1, 2, figsize=(20, 5))\n",
        "\n",
        "# Sentence 1: \"the key unlocked the mystery box revealing its hidden contents\"\n",
        "# Create a heatmap for the attention weights of the first sentence\n",
        "sns.heatmap(attention_weights_1, annot=True, fmt=\".2f\", xticklabels=sen1, yticklabels=sen1, ax=axes[0])\n",
        "axes[0].set_title('Sentence 1 - the key unlocked the mystery box revealing its hidden contents')\n",
        "\n",
        "# Sentence 2: \"learning to play the piano key by key requires patience and practice\"\n",
        "# Create a heatmap for the attention weights of the second sentence\n",
        "sns.heatmap(attention_weights_2, annot=True, fmt=\".2f\", xticklabels=sen2, yticklabels=sen2, ax=axes[1])\n",
        "axes[1].set_title('Sentence 2 - learning to play the piano key by key requires patience and practice')\n",
        "\n",
        "plt.show()"
      ],
      "metadata": {
        "colab": {
          "base_uri": "https://localhost:8080/",
          "height": 514
        },
        "id": "0yxK1-rNW1EK",
        "outputId": "4078b030-8258-4cbe-dda4-96cf5c95ed6e"
      },
      "execution_count": null,
      "outputs": [
        {
          "output_type": "display_data",
          "data": {
            "text/plain": [
              "<Figure size 2000x500 with 4 Axes>"
            ],
            "image/png": "[encoded data removed]"
          },
          "metadata": {}
        }
      ]
    }
  ]
}